{
 "cells": [
  {
   "cell_type": "markdown",
   "metadata": {},
   "source": [
    " ### Help users choose the best health insurance plan based on their medical history, budget, and coverage needs.\n",
    "\n",
    "This project leverages predictive analytics and classification algorithms to develop a recommender system that suggests the most suitable insurance plan for users based on their personal and medical profiles. The model will help users make informed decisions while also benefiting insurance companies by improving customer satisfaction and retention rates.\n"
   ]
  }
 ],
 "metadata": {
  "kernelspec": {
   "display_name": "base",
   "language": "python",
   "name": "python3"
  },
  "language_info": {
   "codemirror_mode": {
    "name": "ipython",
    "version": 3
   },
   "file_extension": ".py",
   "mimetype": "text/x-python",
   "name": "python",
   "nbconvert_exporter": "python",
   "pygments_lexer": "ipython3",
   "version": "3.11.7"
  }
 },
 "nbformat": 4,
 "nbformat_minor": 2
}
