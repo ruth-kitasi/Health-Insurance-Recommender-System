{
 "cells": [
  {
   "cell_type": "markdown",
   "metadata": {},
   "source": [
    "# HEALTH INSURANCE RECOMMENDER SYSTEM\n"
   ]
  },
  {
   "cell_type": "markdown",
   "metadata": {},
   "source": [
    "# 1. Business Understanding\n",
    "\n",
    "## Introduction\n",
    "\n",
    "Health Insurance Policies are very important because they affect the health state of individuals. Getting a suitable health insurance cover based on one's preferences and ability is therefore critical and of paramount importance. It can indeed be the difference between life and death, so it should be approached seriously\n",
    "\n",
    "## Problem Statement\n",
    "\n",
    "Getting the right insurance policy is often a very difficult task due to the numerous options available. The different services offered  by various policies often compound this problems. Navigating this sphere is therefore often very challenging without informed opinions. Through leveraging AI and data science techniques, a model that can predict the most suitable insurance option for a client, tailor made to their health conditions and preferences, can therefore go a long way in aiding such clients get value for their money and avoid the pitfalls that affect many when applying for insurance policies\n",
    "\n",
    "## Key Stakeholders\n",
    "\n",
    "- **`1. Insurance Companies`**- They will be able to advise clients on most worthwhile insurance policies for them,increasing efficiency and approval of their services\n",
    "- **`2. Working class population`**- Individuals are able to select policies that best suite them, avoiding problems that arise from selecting unsuitable covers\n",
    "- **`3. Healthcare organizations e.g hospitals, health ministry`**- They are able to improve general health by offering informed opinions to patients/clients \n",
    "\n"
   ]
  },
  {
   "cell_type": "markdown",
   "metadata": {},
   "source": [
    "# 2.Data Understanding "
   ]
  },
  {
   "cell_type": "markdown",
   "metadata": {},
   "source": [
    "# 3.Data Preparation\n",
    "\n",
    "## Data Inspection\n"
   ]
  },
  {
   "cell_type": "code",
   "execution_count": 3,
   "metadata": {},
   "outputs": [],
   "source": [
    "# import pandas\n",
    "\n",
    "import pandas as pd\n",
    "# Read csv\n",
    "df= pd.read_csv('../health_insurance_recommender.csv')"
   ]
  },
  {
   "cell_type": "code",
   "execution_count": 4,
   "metadata": {},
   "outputs": [
    {
     "data": {
      "text/plain": [
       "(52500, 42)"
      ]
     },
     "execution_count": 4,
     "metadata": {},
     "output_type": "execute_result"
    }
   ],
   "source": [
    "df.shape"
   ]
  },
  {
   "cell_type": "markdown",
   "metadata": {},
   "source": [
    "- The dataset is quite large, It has `52500` rows, `42` columns"
   ]
  },
  {
   "cell_type": "code",
   "execution_count": 5,
   "metadata": {},
   "outputs": [
    {
     "data": {
      "text/plain": [
       "user_id                           0\n",
       "age                            2641\n",
       "gender                            0\n",
       "country                           0\n",
       "region                            0\n",
       "employment_status                 0\n",
       "monthly_income                 2636\n",
       "pre_existing_conditions           0\n",
       "number_of_dependents              0\n",
       "current_health_expenditure        0\n",
       "hospital_preference               0\n",
       "previous_insurance_coverage       0\n",
       "preferred_coverage_type           0\n",
       "insurance_provider                0\n",
       "plan_cost                         0\n",
       "deductible_amount                 0\n",
       "out_of_pocket_max                 0\n",
       "medication_coverage               0\n",
       "maternity_coverage                0\n",
       "chronic_illness_coverage          0\n",
       "emergency_coverage                0\n",
       "dental_coverage                   0\n",
       "vision_coverage                   0\n",
       "user_satisfaction_rating       2619\n",
       "recommended_plan                  0\n",
       "policy_expiry_date                0\n",
       "duplicate_plan_cost               0\n",
       "duplicate_country                 0\n",
       "waiting_period_months             0\n",
       "family_size                       0\n",
       "marital_status                    0\n",
       "employment_type                   0\n",
       "education_level                   0\n",
       "recent_hospital_visits            0\n",
       "smoking_habit                     0\n",
       "alcohol_consumption               0\n",
       "existing_medications              0\n",
       "disability_status                 0\n",
       "co_payment_preference             0\n",
       "lifetime_coverage_limit           0\n",
       "preferred_hospital                0\n",
       "claim_reimbursement_speed         0\n",
       "dtype: int64"
      ]
     },
     "execution_count": 5,
     "metadata": {},
     "output_type": "execute_result"
    }
   ],
   "source": [
    "# info csv\n",
    "df.isna().sum()"
   ]
  },
  {
   "cell_type": "markdown",
   "metadata": {},
   "source": [
    "- Some columns , have some missing values.This will be handled in data cleaning phase"
   ]
  },
  {
   "cell_type": "markdown",
   "metadata": {},
   "source": [
    "## Data Description\n",
    "\n",
    "Below is the description of the target and featues from the documentation\n",
    "\n",
    "\n",
    "| #  | Feature                        | Definition  |\n",
    "|----|--------------------------------|----------------------------------------------------------|\n",
    "| 1  | user_id                        | Unique identifier for each user  |\n",
    "| 2  | age                             | Age of the user  |\n",
    "| 3  | gender                          | Gender of the user (Male, Female, Other)  |\n",
    "| 4  | country                         | Country of residence  |\n",
    "| 5  | monthly_income                  | User's monthly income in USD  |\n",
    "| 6  | health_condition                | Primary health condition of the user (e.g., Diabetes, Hypertension, Asthma)  |\n",
    "| 7  | plan_cost                       | Monthly cost of the insurance plan in USD  |\n",
    "| 8  | deductible_amount               | Amount user pays before insurance covers expenses  |\n",
    "| 9  | out_of_pocket_max               | Maximum amount user pays per year before full coverage  |\n",
    "| 10 | family_size                     | Number of dependents in the family  |\n",
    "| 11 | marital_status                  | User's marital status (Single, Married, Divorced, Widowed)  |\n",
    "| 12 | employment_type                 | User's employment type (Salaried, Self-employed, Unemployed)  |\n",
    "| 13 | education_level                 | Highest level of education attained by the user  |\n",
    "| 14 | recent_hospital_visits          | Number of hospital visits in the past year  |\n",
    "| 15 | smoking_habit                   | Whether the user smokes (Yes, No)  |\n",
    "| 16 | alcohol_consumption             | Whether the user consumes alcohol (Yes, No)  |\n",
    "| 17 | existing_medications            | Whether the user is on long-term medication (Yes, No)  |\n",
    "| 18 | disability_status               | Whether the user has a disability (Yes, No)  |\n",
    "| 19 | co_payment_preference           | User's preference for co-payment level (Low, Medium, High)  |\n",
    "| 20 | lifetime_coverage_limit         | Maximum lifetime coverage amount in USD  |\n",
    "| 21 | claim_reimbursement_speed       | Speed of claim reimbursement (Fast, Medium, Slow)  |\n",
    "| 22 | insurance_effective_time        | Time taken for the insurance plan to start being effective (in days)  |\n",
    "| 23 | target_plan                     | Recommended insurance plan based on user profile  |\n",
    "\n",
    "\n",
    "## Features Missing Descriptions  \n",
    "\n",
    "The following features are present in the dataset but are not yet described:  \n",
    "\n",
    "- **`region`**  \n",
    "- **`employment_status`**  \n",
    "- **`pre_existing_conditions`**  \n",
    "- **`number_of_dependents`**  \n",
    "- **`current_health_expenditure`**  \n",
    "- **`hospital_preference`**  \n",
    "- **`previous_insurance_coverage`**  \n",
    "- **`preferred_coverage_type`**  \n",
    "- **`insurance_provider`**  \n",
    "- **`medication_coverage`**  \n",
    "- **`maternity_coverage`**  \n",
    "- **`chronic_illness_coverage`**  \n",
    "- **`emergency_coverage`**  \n",
    "- **`dental_coverage`**  \n",
    "- **`vision_coverage`**  \n",
    "- **`user_satisfaction_rating`**  \n",
    "- **`recommended_plan`**  \n",
    "- **`policy_expiry_date`**  \n",
    "- **`duplicate_plan_cost`**  \n",
    "- **`duplicate_country`**  \n",
    "- **`waiting_period_months`**  \n",
    "- **`preferred_hospital`**  \n",
    "\n"
   ]
  },
  {
   "cell_type": "markdown",
   "metadata": {},
   "source": [
    "## Data Cleaning\n",
    "\n",
    "### Checking for duplicates and missing values"
   ]
  },
  {
   "cell_type": "code",
   "execution_count": 6,
   "metadata": {},
   "outputs": [
    {
     "name": "stdout",
     "output_type": "stream",
     "text": [
      "Number of duplicate rows: 0\n",
      "\n",
      "Number of missing values in each column:\n",
      "age: 2641\n",
      "monthly_income: 2636\n",
      "user_satisfaction_rating: 2619\n"
     ]
    }
   ],
   "source": [
    "# Check for duplicates\n",
    "duplicates = df.duplicated().sum()\n",
    "print(f\"Number of duplicate rows: {duplicates}\")\n",
    "\n",
    "# Display columns with missing values\n",
    "print(\"\\nNumber of missing values in each column:\")\n",
    "for column in df.columns:\n",
    "    missing_values = df[column].isnull().sum()\n",
    "    if missing_values > 1:\n",
    "        print(f\"{column}: {missing_values}\")"
   ]
  },
  {
   "cell_type": "markdown",
   "metadata": {},
   "source": [
    "- There are no duplicated rows. However, 3 columns have missing data. Before imputing/ deleting missing rows lets plot their distribution\n"
   ]
  },
  {
   "cell_type": "code",
   "execution_count": 7,
   "metadata": {},
   "outputs": [],
   "source": [
    "import matplotlib.pyplot as plt\n",
    "import seaborn as sns"
   ]
  },
  {
   "cell_type": "code",
   "execution_count": 8,
   "metadata": {},
   "outputs": [
    {
     "name": "stdout",
     "output_type": "stream",
     "text": [
      "Visualizing numerical columns:\n"
     ]
    },
    {
     "data": {
      "image/png": "[encoded data removed]",
      "text/plain": [
       "<Figure size 576x432 with 1 Axes>"
      ]
     },
     "metadata": {
      "needs_background": "light"
     },
     "output_type": "display_data"
    },
    {
     "data": {
      "image/png": "[encoded data removed]",
      "text/plain": [
       "<Figure size 576x432 with 1 Axes>"
      ]
     },
     "metadata": {
      "needs_background": "light"
     },
     "output_type": "display_data"
    },
    {
     "data": {
      "image/png": "[encoded data removed]",
      "text/plain": [
       "<Figure size 576x432 with 1 Axes>"
      ]
     },
     "metadata": {
      "needs_background": "light"
     },
     "output_type": "display_data"
    }
   ],
   "source": [
    "# Plot numerical columns\n",
    "print(\"Visualizing numerical columns:\")\n",
    "for column in df[['age','monthly_income','user_satisfaction_rating']].columns:\n",
    "    plt.figure(figsize=(8, 6))\n",
    "    sns.histplot(df[column], kde=True, bins=30, color='blue')\n",
    "    plt.title(f'Distribution of {column}', fontsize=16)\n",
    "    plt.xlabel(column, fontsize=14)\n",
    "    plt.ylabel('Frequency', fontsize=14)\n",
    "    plt.show()"
   ]
  },
  {
   "cell_type": "markdown",
   "metadata": {},
   "source": [
    "## **Handling Missing Values: Imputation Strategy**\n",
    "To ensure data integrity and reduce bias, we have chosen appropriate imputation strategies based on the distribution of each variable.\n",
    "\n",
    "### **1. Age (Median Imputation)**\n",
    "- The distribution of age appears nearly uniform with slight variations.\n",
    "- Using the **median** is appropriate because:\n",
    "  - It is robust to outliers.\n",
    "  - It represents the central tendency of the data without being influenced by extreme values.\n",
    "  - It maintains the overall structure of the distribution.\n",
    "\n",
    "### **2. Monthly Income (Median Imputation)**\n",
    "- Monthly income is **highly right-skewed**, meaning there are a few extremely high values.\n",
    "- Using the **median** is preferred because:\n",
    "  - The mean would be affected by high-income outliers, leading to overestimation.\n",
    "  - The median provides a more reliable central measure for skewed distributions.\n",
    "  - It better represents the typical income level without distortion from extreme values.\n",
    "\n",
    "### **3. User Satisfaction Rating (Mode Imputation)**\n",
    "- This variable is **ordinal/categorical**, typically on a scale (e.g., 1-5).\n",
    "- Using the **mode** is ideal because:\n",
    "  - It preserves the most common response, maintaining data consistency.\n",
    "  - It avoids artificially shifting the average rating.\n",
    "  - It ensures that imputed values align with actual user ratings.\n",
    "\n",
    "By applying these imputation methods, we maintain the dataset's integrity while minimizing distortion.\n"
   ]
  },
  {
   "cell_type": "code",
   "execution_count": 13,
   "metadata": {},
   "outputs": [],
   "source": [
    "# Impute missing values\n",
    "df['age']= df['age'].fillna(df['age'].median())\n",
    "df['monthly_income']= df['monthly_income'].fillna(df['monthly_income'].median())\n",
    "df['user_satisfaction_rating']= df['user_satisfaction_rating'].fillna(df['user_satisfaction_rating'].mode()[0])"
   ]
  },
  {
   "cell_type": "code",
   "execution_count": 14,
   "metadata": {},
   "outputs": [
    {
     "data": {
      "text/plain": [
       "user_id                        0\n",
       "age                            0\n",
       "gender                         0\n",
       "country                        0\n",
       "region                         0\n",
       "employment_status              0\n",
       "monthly_income                 0\n",
       "pre_existing_conditions        0\n",
       "number_of_dependents           0\n",
       "current_health_expenditure     0\n",
       "hospital_preference            0\n",
       "previous_insurance_coverage    0\n",
       "preferred_coverage_type        0\n",
       "insurance_provider             0\n",
       "plan_cost                      0\n",
       "deductible_amount              0\n",
       "out_of_pocket_max              0\n",
       "medication_coverage            0\n",
       "maternity_coverage             0\n",
       "chronic_illness_coverage       0\n",
       "emergency_coverage             0\n",
       "dental_coverage                0\n",
       "vision_coverage                0\n",
       "user_satisfaction_rating       0\n",
       "recommended_plan               0\n",
       "policy_expiry_date             0\n",
       "duplicate_plan_cost            0\n",
       "duplicate_country              0\n",
       "waiting_period_months          0\n",
       "family_size                    0\n",
       "marital_status                 0\n",
       "employment_type                0\n",
       "education_level                0\n",
       "recent_hospital_visits         0\n",
       "smoking_habit                  0\n",
       "alcohol_consumption            0\n",
       "existing_medications           0\n",
       "disability_status              0\n",
       "co_payment_preference          0\n",
       "lifetime_coverage_limit        0\n",
       "preferred_hospital             0\n",
       "claim_reimbursement_speed      0\n",
       "dtype: int64"
      ]
     },
     "execution_count": 14,
     "metadata": {},
     "output_type": "execute_result"
    }
   ],
   "source": [
    "# confirm imputation\n",
    "df.isna().sum()"
   ]
  },
  {
   "cell_type": "markdown",
   "metadata": {},
   "source": [
    "- There are no longer missing values"
   ]
  },
  {
   "cell_type": "code",
   "execution_count": null,
   "metadata": {},
   "outputs": [],
   "source": []
  }
 ],
 "metadata": {
  "kernelspec": {
   "display_name": "learn-env",
   "language": "python",
   "name": "python3"
  },
  "language_info": {
   "codemirror_mode": {
    "name": "ipython",
    "version": 3
   },
   "file_extension": ".py",
   "mimetype": "text/x-python",
   "name": "python",
   "nbconvert_exporter": "python",
   "pygments_lexer": "ipython3",
   "version": "3.8.5"
  }
 },
 "nbformat": 4,
 "nbformat_minor": 2
}
