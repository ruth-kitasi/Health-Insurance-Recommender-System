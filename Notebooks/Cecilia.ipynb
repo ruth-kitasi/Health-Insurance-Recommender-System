{
 "cells": [
  {
   "cell_type": "markdown",
   "id": "47a4f94a",
   "metadata": {},
   "source": [
    "# HEALTH INSURANCE RECOMMENDER SYSTEM"
   ]
  },
  {
   "cell_type": "markdown",
   "id": "970fe51e",
   "metadata": {},
   "source": [
    "# Introduction"
   ]
  },
  {
   "cell_type": "markdown",
   "id": "122f9bc8",
   "metadata": {},
   "source": [
    "Health insurance is a type of insurance that covers the cost of medical expenses, providing financial protection against the high costs of healthcare services and treatments. It plays a crucial role in ensuring access to quality healthcare by reducing the financial burden associated with medical expenses.In Kenya, both public and private health insurance providers exist, with the National Health Insurance Fund (NHIF), now SHA, being the primary public provider, alongside private insurers offering various coverage options. \n",
    "\n",
    "The Kenya Demographic and Health Survey (KDHS) 2022 indicates that 26% of Kenyans have some form of health insurance. This includes both public and private health insurance schemes [ICJ Kenyan Section](https://icj-kenya.org/news/soaring-healthcare-costs-in-kenya-hinder-access-to-vital-services/#:~:text=Very%20few%20people%20have%20health,Kenya%20Demographic%20and%20Health%20Survey.)\n",
    "However, many Kenyans still struggle to find suitable health insurance plans due to limited awareness, affordability issues, and the complexity of comparing different insurance packages. With the rise of data-driven technologies, recommender systems can help individuals select/recommend the most suitable health insurance plans based on their personal needs, financial capability, and medical history. \n",
    "\n"
   ]
  },
  {
   "cell_type": "markdown",
   "id": "76a65dea",
   "metadata": {},
   "source": [
    "# Problem Statement"
   ]
  },
  {
   "cell_type": "markdown",
   "id": "62038cb8",
   "metadata": {},
   "source": [
    "Selecting an appropriate health insurance plan in Kenya remains a significant challenge due to the vast number of available options, varying coverage levels, and differences in cost. Many individuals and families lack the necessary knowledge to effectively compare plans, often resulting in underinsurance, overinsurance, or a complete lack of coverage. Additionally, insurance providers face difficulties in customer retention and satisfaction due to mismatches between user needs and plan offerings.  \n",
    "\n",
    "A data-driven health insurance recommender system can help bridge this gap by analyzing user demographics, pre-existing conditions, financial status, employment status, and insurance features** to provide personalized recommendations. This system enhances decision-making by simplifying the selection process and improving access to suitable healthcare coverage. With an emphasis on both user-specific factors and insurance plan characteristics, this project leverages synthetic data based on Kenyan medical insurance trends** to recommend the most suitable insurance provider and plan for each user.  \n"
   ]
  },
  {
   "cell_type": "markdown",
   "id": "a62b9532",
   "metadata": {},
   "source": [
    "# Objectives"
   ]
  },
  {
   "cell_type": "markdown",
   "id": "5536a5c1",
   "metadata": {},
   "source": [
    "1. Develop a a personalized health insurance recommender system using collaborative filtering (CF), content-based filtering (CBF), or a hybrid approach to match users with the most suitable plans.\n",
    "\n",
    "\n",
    "2. Analyze health insurance trends in Kenya by identifying key user specific factors that influence insurance selection, such as demographic, financial, and health-related attributes that impact user preferences and decision-making.\n",
    "\n",
    "\n",
    "3. Optimize the balance between affordability and coverage adequacy by considering budget constraints, out-of-pocket expenses, and benefit limits in the recommendation process.\n",
    "\n",
    "\n",
    "4. "
   ]
  },
  {
   "cell_type": "markdown",
   "id": "c14442fb",
   "metadata": {},
   "source": [
    "# Data Limitations"
   ]
  },
  {
   "cell_type": "markdown",
   "id": "599d7291",
   "metadata": {},
   "source": [
    "1. Incomplete or Missing Data\n",
    "\n",
    "  Some users may not provide complete information about their health history, income, employment status etc, leading to gaps in data that can affect the accuracy of recommendations.\n",
    "\n",
    "\n",
    "2. Limited Availability of Real-World Data\n",
    "\n",
    "  Many health insurance providers do not publicly share their policy details, making it challenging to build a comprehensive dataset.\n",
    "\n",
    "\n",
    "3. Challenges of Synthetic Data\n",
    "\n",
    "  Since the dataset is synthetically generated, it may not fully reflect real-world diversity in user behavior, health conditions, and insurance choices. Synthetic data may introduce biases that do not exist in real populations, leading to unrealistic recommendations.\n",
    "\n",
    "\n",
    "\n",
    "4.  Cold Start Problem\n",
    "  New users without prior insurance: Users with no previous insurance data (previous_insurance_coverage = No) may struggle to receive personalized recommendations\n",
    "\n"
   ]
  },
  {
   "cell_type": "markdown",
   "id": "305abb18",
   "metadata": {},
   "source": [
    "# Data Understanding"
   ]
  },
  {
   "cell_type": "markdown",
   "id": "6e90aefe",
   "metadata": {},
   "source": [
    "Import neccessary libraries"
   ]
  },
  {
   "cell_type": "code",
   "execution_count": 1,
   "id": "0b0415b4",
   "metadata": {},
   "outputs": [],
   "source": [
    "import pandas as pd\n",
    "import numpy as np\n",
    "import seaborn as sns\n",
    "import matplotlib.pyplot as plt\n"
   ]
  },
  {
   "cell_type": "markdown",
   "id": "635a9954",
   "metadata": {},
   "source": [
    "Read the dataset in the notebook"
   ]
  },
  {
   "cell_type": "code",
   "execution_count": 86,
   "id": "251ed9a2",
   "metadata": {},
   "outputs": [
    {
     "data": {
      "text/html": [
       "<div>\n",
       "<style scoped>\n",
       "    .dataframe tbody tr th:only-of-type {\n",
       "        vertical-align: middle;\n",
       "    }\n",
       "\n",
       "    .dataframe tbody tr th {\n",
       "        vertical-align: top;\n",
       "    }\n",
       "\n",
       "    .dataframe thead th {\n",
       "        text-align: right;\n",
       "    }\n",
       "</style>\n",
       "<table border=\"1\" class=\"dataframe\">\n",
       "  <thead>\n",
       "    <tr style=\"text-align: right;\">\n",
       "      <th></th>\n",
       "      <th>Feature</th>\n",
       "      <th>Definition</th>\n",
       "    </tr>\n",
       "  </thead>\n",
       "  <tbody>\n",
       "    <tr>\n",
       "      <th>0</th>\n",
       "      <td>user_id</td>\n",
       "      <td>Unique identifier for each user</td>\n",
       "    </tr>\n",
       "    <tr>\n",
       "      <th>1</th>\n",
       "      <td>age</td>\n",
       "      <td>Age of the user</td>\n",
       "    </tr>\n",
       "    <tr>\n",
       "      <th>2</th>\n",
       "      <td>gender</td>\n",
       "      <td>Gender of the user (Male, Female, Other)</td>\n",
       "    </tr>\n",
       "    <tr>\n",
       "      <th>3</th>\n",
       "      <td>country</td>\n",
       "      <td>Country of residence</td>\n",
       "    </tr>\n",
       "    <tr>\n",
       "      <th>4</th>\n",
       "      <td>monthly_income</td>\n",
       "      <td>User's monthly income in USD</td>\n",
       "    </tr>\n",
       "    <tr>\n",
       "      <th>5</th>\n",
       "      <td>health_condition</td>\n",
       "      <td>Primary health condition of the user (e.g., Di...</td>\n",
       "    </tr>\n",
       "    <tr>\n",
       "      <th>6</th>\n",
       "      <td>plan_cost</td>\n",
       "      <td>Monthly cost of the insurance plan in USD</td>\n",
       "    </tr>\n",
       "    <tr>\n",
       "      <th>7</th>\n",
       "      <td>deductible_amount</td>\n",
       "      <td>Amount user pays before insurance covers expenses</td>\n",
       "    </tr>\n",
       "    <tr>\n",
       "      <th>8</th>\n",
       "      <td>out_of_pocket_max</td>\n",
       "      <td>Maximum amount user pays per year before full ...</td>\n",
       "    </tr>\n",
       "    <tr>\n",
       "      <th>9</th>\n",
       "      <td>family_size</td>\n",
       "      <td>Number of dependents in the family</td>\n",
       "    </tr>\n",
       "    <tr>\n",
       "      <th>10</th>\n",
       "      <td>marital_status</td>\n",
       "      <td>User's marital status (Single, Married, Divorc...</td>\n",
       "    </tr>\n",
       "    <tr>\n",
       "      <th>11</th>\n",
       "      <td>employment_type</td>\n",
       "      <td>User's employment type (Salaried, Self-employe...</td>\n",
       "    </tr>\n",
       "    <tr>\n",
       "      <th>12</th>\n",
       "      <td>education_level</td>\n",
       "      <td>Highest level of education attained by the user</td>\n",
       "    </tr>\n",
       "    <tr>\n",
       "      <th>13</th>\n",
       "      <td>recent_hospital_visits</td>\n",
       "      <td>Number of hospital visits in the past year</td>\n",
       "    </tr>\n",
       "    <tr>\n",
       "      <th>14</th>\n",
       "      <td>smoking_habit</td>\n",
       "      <td>Whether the user smokes (Yes, No)</td>\n",
       "    </tr>\n",
       "    <tr>\n",
       "      <th>15</th>\n",
       "      <td>alcohol_consumption</td>\n",
       "      <td>Whether the user consumes alcohol (Yes, No)</td>\n",
       "    </tr>\n",
       "    <tr>\n",
       "      <th>16</th>\n",
       "      <td>existing_medications</td>\n",
       "      <td>Whether the user is on long-term medication (Y...</td>\n",
       "    </tr>\n",
       "    <tr>\n",
       "      <th>17</th>\n",
       "      <td>disability_status</td>\n",
       "      <td>Whether the user has a disability (Yes, No)</td>\n",
       "    </tr>\n",
       "    <tr>\n",
       "      <th>18</th>\n",
       "      <td>co_payment_preference</td>\n",
       "      <td>User's preference for co-payment level (Low, M...</td>\n",
       "    </tr>\n",
       "    <tr>\n",
       "      <th>19</th>\n",
       "      <td>lifetime_coverage_limit</td>\n",
       "      <td>Maximum lifetime coverage amount in USD</td>\n",
       "    </tr>\n",
       "    <tr>\n",
       "      <th>20</th>\n",
       "      <td>claim_reimbursement_speed</td>\n",
       "      <td>Speed of claim reimbursement (Fast, Medium, Slow)</td>\n",
       "    </tr>\n",
       "    <tr>\n",
       "      <th>21</th>\n",
       "      <td>insurance_effective_time</td>\n",
       "      <td>Time taken for the insurance plan to start bei...</td>\n",
       "    </tr>\n",
       "    <tr>\n",
       "      <th>22</th>\n",
       "      <td>target_plan</td>\n",
       "      <td>Recommended insurance plan based on user profile</td>\n",
       "    </tr>\n",
       "  </tbody>\n",
       "</table>\n",
       "</div>"
      ],
      "text/plain": [
       "                      Feature  \\\n",
       "0                     user_id   \n",
       "1                         age   \n",
       "2                      gender   \n",
       "3                     country   \n",
       "4              monthly_income   \n",
       "5            health_condition   \n",
       "6                   plan_cost   \n",
       "7           deductible_amount   \n",
       "8           out_of_pocket_max   \n",
       "9                 family_size   \n",
       "10             marital_status   \n",
       "11            employment_type   \n",
       "12            education_level   \n",
       "13     recent_hospital_visits   \n",
       "14              smoking_habit   \n",
       "15        alcohol_consumption   \n",
       "16       existing_medications   \n",
       "17          disability_status   \n",
       "18      co_payment_preference   \n",
       "19    lifetime_coverage_limit   \n",
       "20  claim_reimbursement_speed   \n",
       "21   insurance_effective_time   \n",
       "22                target_plan   \n",
       "\n",
       "                                           Definition  \n",
       "0                     Unique identifier for each user  \n",
       "1                                     Age of the user  \n",
       "2            Gender of the user (Male, Female, Other)  \n",
       "3                                Country of residence  \n",
       "4                        User's monthly income in USD  \n",
       "5   Primary health condition of the user (e.g., Di...  \n",
       "6           Monthly cost of the insurance plan in USD  \n",
       "7   Amount user pays before insurance covers expenses  \n",
       "8   Maximum amount user pays per year before full ...  \n",
       "9                  Number of dependents in the family  \n",
       "10  User's marital status (Single, Married, Divorc...  \n",
       "11  User's employment type (Salaried, Self-employe...  \n",
       "12    Highest level of education attained by the user  \n",
       "13         Number of hospital visits in the past year  \n",
       "14                  Whether the user smokes (Yes, No)  \n",
       "15        Whether the user consumes alcohol (Yes, No)  \n",
       "16  Whether the user is on long-term medication (Y...  \n",
       "17        Whether the user has a disability (Yes, No)  \n",
       "18  User's preference for co-payment level (Low, M...  \n",
       "19            Maximum lifetime coverage amount in USD  \n",
       "20  Speed of claim reimbursement (Fast, Medium, Slow)  \n",
       "21  Time taken for the insurance plan to start bei...  \n",
       "22   Recommended insurance plan based on user profile  "
      ]
     },
     "execution_count": 86,
     "metadata": {},
     "output_type": "execute_result"
    }
   ],
   "source": [
    "data_def = pd.read_excel('C:/Users/hp/Desktop/DATA NEXUS PROJECTS/Health-Insurance-Recommender-System/health_insurance_features_definitions.xlsx')\n",
    "data_def #dataset with column name definitions for easier understanding"
   ]
  },
  {
   "cell_type": "code",
   "execution_count": 3,
   "id": "3ce4ab3d",
   "metadata": {},
   "outputs": [
    {
     "data": {
      "text/html": [
       "<div>\n",
       "<style scoped>\n",
       "    .dataframe tbody tr th:only-of-type {\n",
       "        vertical-align: middle;\n",
       "    }\n",
       "\n",
       "    .dataframe tbody tr th {\n",
       "        vertical-align: top;\n",
       "    }\n",
       "\n",
       "    .dataframe thead th {\n",
       "        text-align: right;\n",
       "    }\n",
       "</style>\n",
       "<table border=\"1\" class=\"dataframe\">\n",
       "  <thead>\n",
       "    <tr style=\"text-align: right;\">\n",
       "      <th></th>\n",
       "      <th>user_id</th>\n",
       "      <th>age</th>\n",
       "      <th>gender</th>\n",
       "      <th>country</th>\n",
       "      <th>region</th>\n",
       "      <th>employment_status</th>\n",
       "      <th>monthly_income</th>\n",
       "      <th>pre_existing_conditions</th>\n",
       "      <th>number_of_dependents</th>\n",
       "      <th>current_health_expenditure</th>\n",
       "      <th>...</th>\n",
       "      <th>education_level</th>\n",
       "      <th>recent_hospital_visits</th>\n",
       "      <th>smoking_habit</th>\n",
       "      <th>alcohol_consumption</th>\n",
       "      <th>existing_medications</th>\n",
       "      <th>disability_status</th>\n",
       "      <th>co_payment_preference</th>\n",
       "      <th>lifetime_coverage_limit</th>\n",
       "      <th>preferred_hospital</th>\n",
       "      <th>claim_reimbursement_speed</th>\n",
       "    </tr>\n",
       "  </thead>\n",
       "  <tbody>\n",
       "    <tr>\n",
       "      <th>0</th>\n",
       "      <td>1</td>\n",
       "      <td>78.0</td>\n",
       "      <td>Female</td>\n",
       "      <td>Kenya</td>\n",
       "      <td>Urban</td>\n",
       "      <td>Self-Employed</td>\n",
       "      <td>342.147528</td>\n",
       "      <td>Cancer</td>\n",
       "      <td>2</td>\n",
       "      <td>2614.37</td>\n",
       "      <td>...</td>\n",
       "      <td>Bachelor's</td>\n",
       "      <td>5</td>\n",
       "      <td>No</td>\n",
       "      <td>Yes</td>\n",
       "      <td>No</td>\n",
       "      <td>Yes</td>\n",
       "      <td>High</td>\n",
       "      <td>50000</td>\n",
       "      <td>Life Healthcare</td>\n",
       "      <td>Medium</td>\n",
       "    </tr>\n",
       "    <tr>\n",
       "      <th>1</th>\n",
       "      <td>2</td>\n",
       "      <td>27.0</td>\n",
       "      <td>Male</td>\n",
       "      <td>Kenya</td>\n",
       "      <td>Semi-Urban</td>\n",
       "      <td>Unemployed</td>\n",
       "      <td>23.271139</td>\n",
       "      <td>None</td>\n",
       "      <td>1</td>\n",
       "      <td>3343.49</td>\n",
       "      <td>...</td>\n",
       "      <td>Master's</td>\n",
       "      <td>10</td>\n",
       "      <td>Yes</td>\n",
       "      <td>Yes</td>\n",
       "      <td>No</td>\n",
       "      <td>Yes</td>\n",
       "      <td>High</td>\n",
       "      <td>1000000</td>\n",
       "      <td>Netcare</td>\n",
       "      <td>Slow</td>\n",
       "    </tr>\n",
       "    <tr>\n",
       "      <th>2</th>\n",
       "      <td>3</td>\n",
       "      <td>74.0</td>\n",
       "      <td>Male</td>\n",
       "      <td>Kenya</td>\n",
       "      <td>Urban</td>\n",
       "      <td>Unemployed</td>\n",
       "      <td>7605.332784</td>\n",
       "      <td>None</td>\n",
       "      <td>5</td>\n",
       "      <td>4615.26</td>\n",
       "      <td>...</td>\n",
       "      <td>Diploma</td>\n",
       "      <td>1</td>\n",
       "      <td>No</td>\n",
       "      <td>Yes</td>\n",
       "      <td>Yes</td>\n",
       "      <td>Yes</td>\n",
       "      <td>High</td>\n",
       "      <td>1000000</td>\n",
       "      <td>Netcare</td>\n",
       "      <td>Fast</td>\n",
       "    </tr>\n",
       "    <tr>\n",
       "      <th>3</th>\n",
       "      <td>4</td>\n",
       "      <td>38.0</td>\n",
       "      <td>Male</td>\n",
       "      <td>Kenya</td>\n",
       "      <td>Rural</td>\n",
       "      <td>Employed</td>\n",
       "      <td>2349.243288</td>\n",
       "      <td>Cancer</td>\n",
       "      <td>3</td>\n",
       "      <td>612.38</td>\n",
       "      <td>...</td>\n",
       "      <td>Diploma</td>\n",
       "      <td>5</td>\n",
       "      <td>No</td>\n",
       "      <td>Yes</td>\n",
       "      <td>No</td>\n",
       "      <td>No</td>\n",
       "      <td>High</td>\n",
       "      <td>1000000</td>\n",
       "      <td>Netcare</td>\n",
       "      <td>Medium</td>\n",
       "    </tr>\n",
       "    <tr>\n",
       "      <th>4</th>\n",
       "      <td>5</td>\n",
       "      <td>43.0</td>\n",
       "      <td>Male</td>\n",
       "      <td>Kenya</td>\n",
       "      <td>Urban</td>\n",
       "      <td>Employed</td>\n",
       "      <td>17.187938</td>\n",
       "      <td>Asthma</td>\n",
       "      <td>4</td>\n",
       "      <td>2314.12</td>\n",
       "      <td>...</td>\n",
       "      <td>Bachelor's</td>\n",
       "      <td>0</td>\n",
       "      <td>No</td>\n",
       "      <td>Yes</td>\n",
       "      <td>No</td>\n",
       "      <td>Yes</td>\n",
       "      <td>High</td>\n",
       "      <td>1000000</td>\n",
       "      <td>Aga Khan Hospital</td>\n",
       "      <td>Fast</td>\n",
       "    </tr>\n",
       "  </tbody>\n",
       "</table>\n",
       "<p>5 rows × 42 columns</p>\n",
       "</div>"
      ],
      "text/plain": [
       "   user_id   age  gender country      region employment_status  \\\n",
       "0        1  78.0  Female   Kenya       Urban     Self-Employed   \n",
       "1        2  27.0    Male   Kenya  Semi-Urban        Unemployed   \n",
       "2        3  74.0    Male   Kenya       Urban        Unemployed   \n",
       "3        4  38.0    Male   Kenya       Rural          Employed   \n",
       "4        5  43.0    Male   Kenya       Urban          Employed   \n",
       "\n",
       "   monthly_income pre_existing_conditions  number_of_dependents  \\\n",
       "0      342.147528                  Cancer                     2   \n",
       "1       23.271139                    None                     1   \n",
       "2     7605.332784                    None                     5   \n",
       "3     2349.243288                  Cancer                     3   \n",
       "4       17.187938                  Asthma                     4   \n",
       "\n",
       "   current_health_expenditure  ... education_level recent_hospital_visits  \\\n",
       "0                     2614.37  ...      Bachelor's                      5   \n",
       "1                     3343.49  ...        Master's                     10   \n",
       "2                     4615.26  ...         Diploma                      1   \n",
       "3                      612.38  ...         Diploma                      5   \n",
       "4                     2314.12  ...      Bachelor's                      0   \n",
       "\n",
       "  smoking_habit alcohol_consumption  existing_medications  disability_status  \\\n",
       "0            No                 Yes                    No                Yes   \n",
       "1           Yes                 Yes                    No                Yes   \n",
       "2            No                 Yes                   Yes                Yes   \n",
       "3            No                 Yes                    No                 No   \n",
       "4            No                 Yes                    No                Yes   \n",
       "\n",
       "   co_payment_preference lifetime_coverage_limit preferred_hospital  \\\n",
       "0                   High                   50000    Life Healthcare   \n",
       "1                   High                 1000000            Netcare   \n",
       "2                   High                 1000000            Netcare   \n",
       "3                   High                 1000000            Netcare   \n",
       "4                   High                 1000000  Aga Khan Hospital   \n",
       "\n",
       "  claim_reimbursement_speed  \n",
       "0                    Medium  \n",
       "1                      Slow  \n",
       "2                      Fast  \n",
       "3                    Medium  \n",
       "4                      Fast  \n",
       "\n",
       "[5 rows x 42 columns]"
      ]
     },
     "execution_count": 3,
     "metadata": {},
     "output_type": "execute_result"
    }
   ],
   "source": [
    "data = pd.read_csv('C:/Users/hp/Desktop/DATA NEXUS PROJECTS/Health-Insurance-Recommender-System/health_insurance_recommender.csv')\n",
    "data.head() #display the first 5 rows of our dataset"
   ]
  },
  {
   "cell_type": "code",
   "execution_count": 4,
   "id": "6d15c06b",
   "metadata": {},
   "outputs": [
    {
     "data": {
      "text/html": [
       "<div>\n",
       "<style scoped>\n",
       "    .dataframe tbody tr th:only-of-type {\n",
       "        vertical-align: middle;\n",
       "    }\n",
       "\n",
       "    .dataframe tbody tr th {\n",
       "        vertical-align: top;\n",
       "    }\n",
       "\n",
       "    .dataframe thead th {\n",
       "        text-align: right;\n",
       "    }\n",
       "</style>\n",
       "<table border=\"1\" class=\"dataframe\">\n",
       "  <thead>\n",
       "    <tr style=\"text-align: right;\">\n",
       "      <th></th>\n",
       "      <th>user_id</th>\n",
       "      <th>age</th>\n",
       "      <th>gender</th>\n",
       "      <th>country</th>\n",
       "      <th>region</th>\n",
       "      <th>employment_status</th>\n",
       "      <th>monthly_income</th>\n",
       "      <th>pre_existing_conditions</th>\n",
       "      <th>number_of_dependents</th>\n",
       "      <th>current_health_expenditure</th>\n",
       "      <th>...</th>\n",
       "      <th>education_level</th>\n",
       "      <th>recent_hospital_visits</th>\n",
       "      <th>smoking_habit</th>\n",
       "      <th>alcohol_consumption</th>\n",
       "      <th>existing_medications</th>\n",
       "      <th>disability_status</th>\n",
       "      <th>co_payment_preference</th>\n",
       "      <th>lifetime_coverage_limit</th>\n",
       "      <th>preferred_hospital</th>\n",
       "      <th>claim_reimbursement_speed</th>\n",
       "    </tr>\n",
       "  </thead>\n",
       "  <tbody>\n",
       "    <tr>\n",
       "      <th>52495</th>\n",
       "      <td>6270</td>\n",
       "      <td>35.0</td>\n",
       "      <td>Male</td>\n",
       "      <td>Kenya</td>\n",
       "      <td>Semi-Urban</td>\n",
       "      <td>Employed</td>\n",
       "      <td>15.893020</td>\n",
       "      <td>None</td>\n",
       "      <td>3</td>\n",
       "      <td>3499.20</td>\n",
       "      <td>...</td>\n",
       "      <td>High School</td>\n",
       "      <td>5</td>\n",
       "      <td>Yes</td>\n",
       "      <td>Yes</td>\n",
       "      <td>Yes</td>\n",
       "      <td>No</td>\n",
       "      <td>Low</td>\n",
       "      <td>50000</td>\n",
       "      <td>Life Healthcare</td>\n",
       "      <td>Slow</td>\n",
       "    </tr>\n",
       "    <tr>\n",
       "      <th>52496</th>\n",
       "      <td>2178</td>\n",
       "      <td>41.0</td>\n",
       "      <td>Female</td>\n",
       "      <td>Kenya</td>\n",
       "      <td>Rural</td>\n",
       "      <td>Self-Employed</td>\n",
       "      <td>49.476436</td>\n",
       "      <td>Cancer</td>\n",
       "      <td>3</td>\n",
       "      <td>3036.13</td>\n",
       "      <td>...</td>\n",
       "      <td>Bachelor's</td>\n",
       "      <td>8</td>\n",
       "      <td>Yes</td>\n",
       "      <td>No</td>\n",
       "      <td>Yes</td>\n",
       "      <td>No</td>\n",
       "      <td>High</td>\n",
       "      <td>0</td>\n",
       "      <td>Life Healthcare</td>\n",
       "      <td>Medium</td>\n",
       "    </tr>\n",
       "    <tr>\n",
       "      <th>52497</th>\n",
       "      <td>25231</td>\n",
       "      <td>58.0</td>\n",
       "      <td>Other</td>\n",
       "      <td>Kenya</td>\n",
       "      <td>Semi-Urban</td>\n",
       "      <td>Unemployed</td>\n",
       "      <td>2314.782792</td>\n",
       "      <td>HIV</td>\n",
       "      <td>2</td>\n",
       "      <td>4483.59</td>\n",
       "      <td>...</td>\n",
       "      <td>PhD</td>\n",
       "      <td>5</td>\n",
       "      <td>No</td>\n",
       "      <td>Yes</td>\n",
       "      <td>No</td>\n",
       "      <td>Yes</td>\n",
       "      <td>Low</td>\n",
       "      <td>1000000</td>\n",
       "      <td>Mediheal</td>\n",
       "      <td>Slow</td>\n",
       "    </tr>\n",
       "    <tr>\n",
       "      <th>52498</th>\n",
       "      <td>8637</td>\n",
       "      <td>50.0</td>\n",
       "      <td>Other</td>\n",
       "      <td>Kenya</td>\n",
       "      <td>Rural</td>\n",
       "      <td>Unemployed</td>\n",
       "      <td>11.434256</td>\n",
       "      <td>Asthma</td>\n",
       "      <td>0</td>\n",
       "      <td>1676.98</td>\n",
       "      <td>...</td>\n",
       "      <td>High School</td>\n",
       "      <td>0</td>\n",
       "      <td>No</td>\n",
       "      <td>Yes</td>\n",
       "      <td>No</td>\n",
       "      <td>No</td>\n",
       "      <td>High</td>\n",
       "      <td>500000</td>\n",
       "      <td>Life Healthcare</td>\n",
       "      <td>Medium</td>\n",
       "    </tr>\n",
       "    <tr>\n",
       "      <th>52499</th>\n",
       "      <td>33073</td>\n",
       "      <td>37.0</td>\n",
       "      <td>Other</td>\n",
       "      <td>Kenya</td>\n",
       "      <td>Semi-Urban</td>\n",
       "      <td>Unemployed</td>\n",
       "      <td>10147.409780</td>\n",
       "      <td>HIV</td>\n",
       "      <td>3</td>\n",
       "      <td>855.74</td>\n",
       "      <td>...</td>\n",
       "      <td>PhD</td>\n",
       "      <td>7</td>\n",
       "      <td>No</td>\n",
       "      <td>Yes</td>\n",
       "      <td>Yes</td>\n",
       "      <td>No</td>\n",
       "      <td>High</td>\n",
       "      <td>50000</td>\n",
       "      <td>Mediheal</td>\n",
       "      <td>Medium</td>\n",
       "    </tr>\n",
       "  </tbody>\n",
       "</table>\n",
       "<p>5 rows × 42 columns</p>\n",
       "</div>"
      ],
      "text/plain": [
       "       user_id   age  gender country      region employment_status  \\\n",
       "52495     6270  35.0    Male   Kenya  Semi-Urban          Employed   \n",
       "52496     2178  41.0  Female   Kenya       Rural     Self-Employed   \n",
       "52497    25231  58.0   Other   Kenya  Semi-Urban        Unemployed   \n",
       "52498     8637  50.0   Other   Kenya       Rural        Unemployed   \n",
       "52499    33073  37.0   Other   Kenya  Semi-Urban        Unemployed   \n",
       "\n",
       "       monthly_income pre_existing_conditions  number_of_dependents  \\\n",
       "52495       15.893020                    None                     3   \n",
       "52496       49.476436                  Cancer                     3   \n",
       "52497     2314.782792                     HIV                     2   \n",
       "52498       11.434256                  Asthma                     0   \n",
       "52499    10147.409780                     HIV                     3   \n",
       "\n",
       "       current_health_expenditure  ... education_level recent_hospital_visits  \\\n",
       "52495                     3499.20  ...     High School                      5   \n",
       "52496                     3036.13  ...      Bachelor's                      8   \n",
       "52497                     4483.59  ...             PhD                      5   \n",
       "52498                     1676.98  ...     High School                      0   \n",
       "52499                      855.74  ...             PhD                      7   \n",
       "\n",
       "      smoking_habit alcohol_consumption  existing_medications  \\\n",
       "52495           Yes                 Yes                   Yes   \n",
       "52496           Yes                  No                   Yes   \n",
       "52497            No                 Yes                    No   \n",
       "52498            No                 Yes                    No   \n",
       "52499            No                 Yes                   Yes   \n",
       "\n",
       "       disability_status  co_payment_preference lifetime_coverage_limit  \\\n",
       "52495                 No                    Low                   50000   \n",
       "52496                 No                   High                       0   \n",
       "52497                Yes                    Low                 1000000   \n",
       "52498                 No                   High                  500000   \n",
       "52499                 No                   High                   50000   \n",
       "\n",
       "      preferred_hospital claim_reimbursement_speed  \n",
       "52495    Life Healthcare                      Slow  \n",
       "52496    Life Healthcare                    Medium  \n",
       "52497           Mediheal                      Slow  \n",
       "52498    Life Healthcare                    Medium  \n",
       "52499           Mediheal                    Medium  \n",
       "\n",
       "[5 rows x 42 columns]"
      ]
     },
     "execution_count": 4,
     "metadata": {},
     "output_type": "execute_result"
    }
   ],
   "source": [
    "data.tail() #display the last 5 rows of our dataset"
   ]
  },
  {
   "cell_type": "code",
   "execution_count": 5,
   "id": "d9140d4e",
   "metadata": {},
   "outputs": [
    {
     "name": "stdout",
     "output_type": "stream",
     "text": [
      "<class 'pandas.core.frame.DataFrame'>\n",
      "RangeIndex: 52500 entries, 0 to 52499\n",
      "Data columns (total 42 columns):\n",
      " #   Column                       Non-Null Count  Dtype  \n",
      "---  ------                       --------------  -----  \n",
      " 0   user_id                      52500 non-null  int64  \n",
      " 1   age                          49859 non-null  float64\n",
      " 2   gender                       52500 non-null  object \n",
      " 3   country                      52500 non-null  object \n",
      " 4   region                       52500 non-null  object \n",
      " 5   employment_status            52500 non-null  object \n",
      " 6   monthly_income               49864 non-null  float64\n",
      " 7   pre_existing_conditions      52500 non-null  object \n",
      " 8   number_of_dependents         52500 non-null  int64  \n",
      " 9   current_health_expenditure   52500 non-null  float64\n",
      " 10  hospital_preference          52500 non-null  object \n",
      " 11  previous_insurance_coverage  52500 non-null  object \n",
      " 12  preferred_coverage_type      52500 non-null  object \n",
      " 13  insurance_provider           52500 non-null  object \n",
      " 14  plan_cost                    52500 non-null  float64\n",
      " 15  deductible_amount            52500 non-null  float64\n",
      " 16  out_of_pocket_max            52500 non-null  float64\n",
      " 17  medication_coverage          52500 non-null  object \n",
      " 18  maternity_coverage           52500 non-null  object \n",
      " 19  chronic_illness_coverage     52500 non-null  object \n",
      " 20  emergency_coverage           52500 non-null  object \n",
      " 21  dental_coverage              52500 non-null  object \n",
      " 22  vision_coverage              52500 non-null  object \n",
      " 23  user_satisfaction_rating     49881 non-null  float64\n",
      " 24  recommended_plan             52500 non-null  object \n",
      " 25  policy_expiry_date           52500 non-null  object \n",
      " 26  duplicate_plan_cost          52500 non-null  float64\n",
      " 27  duplicate_country            52500 non-null  object \n",
      " 28  waiting_period_months        52500 non-null  int64  \n",
      " 29  family_size                  52500 non-null  int64  \n",
      " 30  marital_status               52500 non-null  object \n",
      " 31  employment_type              52500 non-null  object \n",
      " 32  education_level              52500 non-null  object \n",
      " 33  recent_hospital_visits       52500 non-null  int64  \n",
      " 34  smoking_habit                52500 non-null  object \n",
      " 35  alcohol_consumption          52500 non-null  object \n",
      " 36  existing_medications         52500 non-null  object \n",
      " 37  disability_status            52500 non-null  object \n",
      " 38  co_payment_preference        52500 non-null  object \n",
      " 39  lifetime_coverage_limit      52500 non-null  int64  \n",
      " 40  preferred_hospital           52500 non-null  object \n",
      " 41  claim_reimbursement_speed    52500 non-null  object \n",
      "dtypes: float64(8), int64(6), object(28)\n",
      "memory usage: 16.8+ MB\n"
     ]
    }
   ],
   "source": [
    "data.info() #information about the whole dataset"
   ]
  },
  {
   "cell_type": "code",
   "execution_count": 6,
   "id": "700cffc0",
   "metadata": {},
   "outputs": [
    {
     "data": {
      "text/html": [
       "<div>\n",
       "<style scoped>\n",
       "    .dataframe tbody tr th:only-of-type {\n",
       "        vertical-align: middle;\n",
       "    }\n",
       "\n",
       "    .dataframe tbody tr th {\n",
       "        vertical-align: top;\n",
       "    }\n",
       "\n",
       "    .dataframe thead th {\n",
       "        text-align: right;\n",
       "    }\n",
       "</style>\n",
       "<table border=\"1\" class=\"dataframe\">\n",
       "  <thead>\n",
       "    <tr style=\"text-align: right;\">\n",
       "      <th></th>\n",
       "      <th>count</th>\n",
       "      <th>mean</th>\n",
       "      <th>std</th>\n",
       "      <th>min</th>\n",
       "      <th>25%</th>\n",
       "      <th>50%</th>\n",
       "      <th>75%</th>\n",
       "      <th>max</th>\n",
       "    </tr>\n",
       "  </thead>\n",
       "  <tbody>\n",
       "    <tr>\n",
       "      <th>user_id</th>\n",
       "      <td>52500.0</td>\n",
       "      <td>24980.571486</td>\n",
       "      <td>14433.032416</td>\n",
       "      <td>1.000000</td>\n",
       "      <td>12479.750000</td>\n",
       "      <td>24974.500000</td>\n",
       "      <td>37471.250000</td>\n",
       "      <td>50000.000000</td>\n",
       "    </tr>\n",
       "    <tr>\n",
       "      <th>age</th>\n",
       "      <td>49859.0</td>\n",
       "      <td>48.535911</td>\n",
       "      <td>17.922048</td>\n",
       "      <td>18.000000</td>\n",
       "      <td>33.000000</td>\n",
       "      <td>48.000000</td>\n",
       "      <td>64.000000</td>\n",
       "      <td>79.000000</td>\n",
       "    </tr>\n",
       "    <tr>\n",
       "      <th>monthly_income</th>\n",
       "      <td>49864.0</td>\n",
       "      <td>2229.294781</td>\n",
       "      <td>3993.264625</td>\n",
       "      <td>1.281549</td>\n",
       "      <td>59.004709</td>\n",
       "      <td>611.079480</td>\n",
       "      <td>1360.548180</td>\n",
       "      <td>19434.987400</td>\n",
       "    </tr>\n",
       "    <tr>\n",
       "      <th>number_of_dependents</th>\n",
       "      <td>52500.0</td>\n",
       "      <td>2.492286</td>\n",
       "      <td>1.705581</td>\n",
       "      <td>0.000000</td>\n",
       "      <td>1.000000</td>\n",
       "      <td>2.000000</td>\n",
       "      <td>4.000000</td>\n",
       "      <td>5.000000</td>\n",
       "    </tr>\n",
       "    <tr>\n",
       "      <th>current_health_expenditure</th>\n",
       "      <td>52500.0</td>\n",
       "      <td>2542.757659</td>\n",
       "      <td>1416.930992</td>\n",
       "      <td>100.030000</td>\n",
       "      <td>1316.652500</td>\n",
       "      <td>2540.765000</td>\n",
       "      <td>3766.235000</td>\n",
       "      <td>4999.990000</td>\n",
       "    </tr>\n",
       "    <tr>\n",
       "      <th>plan_cost</th>\n",
       "      <td>52500.0</td>\n",
       "      <td>599.710239</td>\n",
       "      <td>1029.239746</td>\n",
       "      <td>1.260237</td>\n",
       "      <td>22.398519</td>\n",
       "      <td>168.510240</td>\n",
       "      <td>354.352950</td>\n",
       "      <td>4859.763804</td>\n",
       "    </tr>\n",
       "    <tr>\n",
       "      <th>deductible_amount</th>\n",
       "      <td>52500.0</td>\n",
       "      <td>113.864270</td>\n",
       "      <td>200.843563</td>\n",
       "      <td>0.126121</td>\n",
       "      <td>3.185938</td>\n",
       "      <td>31.528224</td>\n",
       "      <td>69.125184</td>\n",
       "      <td>971.922240</td>\n",
       "    </tr>\n",
       "    <tr>\n",
       "      <th>out_of_pocket_max</th>\n",
       "      <td>52500.0</td>\n",
       "      <td>381.808335</td>\n",
       "      <td>634.008554</td>\n",
       "      <td>1.260728</td>\n",
       "      <td>21.623265</td>\n",
       "      <td>107.380008</td>\n",
       "      <td>215.736066</td>\n",
       "      <td>2915.811432</td>\n",
       "    </tr>\n",
       "    <tr>\n",
       "      <th>user_satisfaction_rating</th>\n",
       "      <td>49881.0</td>\n",
       "      <td>3.001423</td>\n",
       "      <td>1.419540</td>\n",
       "      <td>1.000000</td>\n",
       "      <td>2.000000</td>\n",
       "      <td>3.000000</td>\n",
       "      <td>4.000000</td>\n",
       "      <td>5.000000</td>\n",
       "    </tr>\n",
       "    <tr>\n",
       "      <th>duplicate_plan_cost</th>\n",
       "      <td>52500.0</td>\n",
       "      <td>27581.730840</td>\n",
       "      <td>13051.249725</td>\n",
       "      <td>5000.160000</td>\n",
       "      <td>16220.612500</td>\n",
       "      <td>27641.475000</td>\n",
       "      <td>38970.142500</td>\n",
       "      <td>49999.710000</td>\n",
       "    </tr>\n",
       "    <tr>\n",
       "      <th>waiting_period_months</th>\n",
       "      <td>52500.0</td>\n",
       "      <td>4.911219</td>\n",
       "      <td>6.010216</td>\n",
       "      <td>0.000000</td>\n",
       "      <td>1.000000</td>\n",
       "      <td>3.000000</td>\n",
       "      <td>6.000000</td>\n",
       "      <td>24.000000</td>\n",
       "    </tr>\n",
       "    <tr>\n",
       "      <th>family_size</th>\n",
       "      <td>52500.0</td>\n",
       "      <td>3.501067</td>\n",
       "      <td>1.709279</td>\n",
       "      <td>1.000000</td>\n",
       "      <td>2.000000</td>\n",
       "      <td>4.000000</td>\n",
       "      <td>5.000000</td>\n",
       "      <td>6.000000</td>\n",
       "    </tr>\n",
       "    <tr>\n",
       "      <th>recent_hospital_visits</th>\n",
       "      <td>52500.0</td>\n",
       "      <td>4.990590</td>\n",
       "      <td>3.155993</td>\n",
       "      <td>0.000000</td>\n",
       "      <td>2.000000</td>\n",
       "      <td>5.000000</td>\n",
       "      <td>8.000000</td>\n",
       "      <td>10.000000</td>\n",
       "    </tr>\n",
       "    <tr>\n",
       "      <th>lifetime_coverage_limit</th>\n",
       "      <td>52500.0</td>\n",
       "      <td>315353.333333</td>\n",
       "      <td>347630.969988</td>\n",
       "      <td>0.000000</td>\n",
       "      <td>50000.000000</td>\n",
       "      <td>100000.000000</td>\n",
       "      <td>500000.000000</td>\n",
       "      <td>1000000.000000</td>\n",
       "    </tr>\n",
       "  </tbody>\n",
       "</table>\n",
       "</div>"
      ],
      "text/plain": [
       "                              count           mean            std  \\\n",
       "user_id                     52500.0   24980.571486   14433.032416   \n",
       "age                         49859.0      48.535911      17.922048   \n",
       "monthly_income              49864.0    2229.294781    3993.264625   \n",
       "number_of_dependents        52500.0       2.492286       1.705581   \n",
       "current_health_expenditure  52500.0    2542.757659    1416.930992   \n",
       "plan_cost                   52500.0     599.710239    1029.239746   \n",
       "deductible_amount           52500.0     113.864270     200.843563   \n",
       "out_of_pocket_max           52500.0     381.808335     634.008554   \n",
       "user_satisfaction_rating    49881.0       3.001423       1.419540   \n",
       "duplicate_plan_cost         52500.0   27581.730840   13051.249725   \n",
       "waiting_period_months       52500.0       4.911219       6.010216   \n",
       "family_size                 52500.0       3.501067       1.709279   \n",
       "recent_hospital_visits      52500.0       4.990590       3.155993   \n",
       "lifetime_coverage_limit     52500.0  315353.333333  347630.969988   \n",
       "\n",
       "                                    min           25%            50%  \\\n",
       "user_id                        1.000000  12479.750000   24974.500000   \n",
       "age                           18.000000     33.000000      48.000000   \n",
       "monthly_income                 1.281549     59.004709     611.079480   \n",
       "number_of_dependents           0.000000      1.000000       2.000000   \n",
       "current_health_expenditure   100.030000   1316.652500    2540.765000   \n",
       "plan_cost                      1.260237     22.398519     168.510240   \n",
       "deductible_amount              0.126121      3.185938      31.528224   \n",
       "out_of_pocket_max              1.260728     21.623265     107.380008   \n",
       "user_satisfaction_rating       1.000000      2.000000       3.000000   \n",
       "duplicate_plan_cost         5000.160000  16220.612500   27641.475000   \n",
       "waiting_period_months          0.000000      1.000000       3.000000   \n",
       "family_size                    1.000000      2.000000       4.000000   \n",
       "recent_hospital_visits         0.000000      2.000000       5.000000   \n",
       "lifetime_coverage_limit        0.000000  50000.000000  100000.000000   \n",
       "\n",
       "                                      75%             max  \n",
       "user_id                      37471.250000    50000.000000  \n",
       "age                             64.000000       79.000000  \n",
       "monthly_income                1360.548180    19434.987400  \n",
       "number_of_dependents             4.000000        5.000000  \n",
       "current_health_expenditure    3766.235000     4999.990000  \n",
       "plan_cost                      354.352950     4859.763804  \n",
       "deductible_amount               69.125184      971.922240  \n",
       "out_of_pocket_max              215.736066     2915.811432  \n",
       "user_satisfaction_rating         4.000000        5.000000  \n",
       "duplicate_plan_cost          38970.142500    49999.710000  \n",
       "waiting_period_months            6.000000       24.000000  \n",
       "family_size                      5.000000        6.000000  \n",
       "recent_hospital_visits           8.000000       10.000000  \n",
       "lifetime_coverage_limit     500000.000000  1000000.000000  "
      ]
     },
     "execution_count": 6,
     "metadata": {},
     "output_type": "execute_result"
    }
   ],
   "source": [
    "data.describe().T #statistical summary of the numerical columns"
   ]
  },
  {
   "cell_type": "code",
   "execution_count": 7,
   "id": "389f9fd8",
   "metadata": {},
   "outputs": [
    {
     "data": {
      "text/plain": [
       "Index(['user_id', 'age', 'gender', 'country', 'region', 'employment_status',\n",
       "       'monthly_income', 'pre_existing_conditions', 'number_of_dependents',\n",
       "       'current_health_expenditure', 'hospital_preference',\n",
       "       'previous_insurance_coverage', 'preferred_coverage_type',\n",
       "       'insurance_provider', 'plan_cost', 'deductible_amount',\n",
       "       'out_of_pocket_max', 'medication_coverage', 'maternity_coverage',\n",
       "       'chronic_illness_coverage', 'emergency_coverage', 'dental_coverage',\n",
       "       'vision_coverage', 'user_satisfaction_rating', 'recommended_plan',\n",
       "       'policy_expiry_date', 'duplicate_plan_cost', 'duplicate_country',\n",
       "       'waiting_period_months', 'family_size', 'marital_status',\n",
       "       'employment_type', 'education_level', 'recent_hospital_visits',\n",
       "       'smoking_habit', 'alcohol_consumption', 'existing_medications',\n",
       "       'disability_status', 'co_payment_preference', 'lifetime_coverage_limit',\n",
       "       'preferred_hospital', 'claim_reimbursement_speed'],\n",
       "      dtype='object')"
      ]
     },
     "execution_count": 7,
     "metadata": {},
     "output_type": "execute_result"
    }
   ],
   "source": [
    "data.columns #display the columns in our dataset"
   ]
  },
  {
   "cell_type": "code",
   "execution_count": 8,
   "id": "acbc0243",
   "metadata": {},
   "outputs": [
    {
     "data": {
      "text/plain": [
       "(52500, 42)"
      ]
     },
     "execution_count": 8,
     "metadata": {},
     "output_type": "execute_result"
    }
   ],
   "source": [
    "data.shape #display the number of rows and columns in our dataset\n",
    "#our dataset has 52,500 rows and 42 columns"
   ]
  },
  {
   "cell_type": "code",
   "execution_count": 9,
   "id": "4e4ac136",
   "metadata": {},
   "outputs": [
    {
     "data": {
      "text/plain": [
       "object     28\n",
       "float64     8\n",
       "int64       6\n",
       "dtype: int64"
      ]
     },
     "execution_count": 9,
     "metadata": {},
     "output_type": "execute_result"
    }
   ],
   "source": [
    "data.dtypes.value_counts() #display the datatype count of the columns"
   ]
  },
  {
   "cell_type": "markdown",
   "id": "417d87d7",
   "metadata": {},
   "source": [
    "# Data Cleaning"
   ]
  },
  {
   "cell_type": "markdown",
   "id": "f5b9f455",
   "metadata": {},
   "source": [
    "Check which columns have missing values"
   ]
  },
  {
   "cell_type": "code",
   "execution_count": 10,
   "id": "482aea5d",
   "metadata": {},
   "outputs": [
    {
     "data": {
      "text/plain": [
       "user_id                           0\n",
       "age                            2641\n",
       "gender                            0\n",
       "country                           0\n",
       "region                            0\n",
       "employment_status                 0\n",
       "monthly_income                 2636\n",
       "pre_existing_conditions           0\n",
       "number_of_dependents              0\n",
       "current_health_expenditure        0\n",
       "hospital_preference               0\n",
       "previous_insurance_coverage       0\n",
       "preferred_coverage_type           0\n",
       "insurance_provider                0\n",
       "plan_cost                         0\n",
       "deductible_amount                 0\n",
       "out_of_pocket_max                 0\n",
       "medication_coverage               0\n",
       "maternity_coverage                0\n",
       "chronic_illness_coverage          0\n",
       "emergency_coverage                0\n",
       "dental_coverage                   0\n",
       "vision_coverage                   0\n",
       "user_satisfaction_rating       2619\n",
       "recommended_plan                  0\n",
       "policy_expiry_date                0\n",
       "duplicate_plan_cost               0\n",
       "duplicate_country                 0\n",
       "waiting_period_months             0\n",
       "family_size                       0\n",
       "marital_status                    0\n",
       "employment_type                   0\n",
       "education_level                   0\n",
       "recent_hospital_visits            0\n",
       "smoking_habit                     0\n",
       "alcohol_consumption               0\n",
       "existing_medications              0\n",
       "disability_status                 0\n",
       "co_payment_preference             0\n",
       "lifetime_coverage_limit           0\n",
       "preferred_hospital                0\n",
       "claim_reimbursement_speed         0\n",
       "dtype: int64"
      ]
     },
     "execution_count": 10,
     "metadata": {},
     "output_type": "execute_result"
    }
   ],
   "source": [
    "data.isnull().sum() #checking for null values in each column"
   ]
  },
  {
   "cell_type": "code",
   "execution_count": 31,
   "id": "77209b27",
   "metadata": {},
   "outputs": [
    {
     "data": {
      "text/plain": [
       "0"
      ]
     },
     "execution_count": 31,
     "metadata": {},
     "output_type": "execute_result"
    }
   ],
   "source": [
    "data.duplicated().sum()"
   ]
  },
  {
   "cell_type": "markdown",
   "id": "80608c6f",
   "metadata": {},
   "source": [
    "There were missing values in the columns; age,monthly income and user_satisfaction_rating"
   ]
  },
  {
   "cell_type": "markdown",
   "id": "288c7af3",
   "metadata": {},
   "source": [
    "## Cleaning 'Age' column"
   ]
  },
  {
   "cell_type": "markdown",
   "id": "a901d87f",
   "metadata": {},
   "source": [
    "Check how the Age data is distributed, in order to decide on the best way to hande its missing values"
   ]
  },
  {
   "cell_type": "code",
   "execution_count": 32,
   "id": "515db531",
   "metadata": {},
   "outputs": [
    {
     "data": {
      "image/png": "[encoded data removed]",
      "text/plain": [
       "<Figure size 432x288 with 1 Axes>"
      ]
     },
     "metadata": {
      "needs_background": "light"
     },
     "output_type": "display_data"
    }
   ],
   "source": [
    "# Plot KDE \n",
    "sns.kdeplot(data['age'], shade=True, color='blue')\n",
    "\n",
    "# Show plot\n",
    "plt.xlabel(\"Age\")\n",
    "plt.ylabel(\"Density\")\n",
    "plt.title(\"Age Distribution\")\n",
    "plt.show()"
   ]
  },
  {
   "cell_type": "code",
   "execution_count": 33,
   "id": "9152d2cc",
   "metadata": {},
   "outputs": [],
   "source": [
    "data['age'].fillna(data['age'].median(), inplace=True)"
   ]
  },
  {
   "cell_type": "markdown",
   "id": "5b48b7e8",
   "metadata": {},
   "source": [
    "Filled the age column with its median, because the distribution of age was non-normal, and filling with median also helps retain the integrity of the data"
   ]
  },
  {
   "cell_type": "code",
   "execution_count": 34,
   "id": "8824b21a",
   "metadata": {},
   "outputs": [
    {
     "data": {
      "text/plain": [
       "0"
      ]
     },
     "execution_count": 34,
     "metadata": {},
     "output_type": "execute_result"
    }
   ],
   "source": [
    "data['age'].isna().sum() #confirm that there are no missing values in the age column"
   ]
  },
  {
   "cell_type": "code",
   "execution_count": 35,
   "id": "78334014",
   "metadata": {},
   "outputs": [
    {
     "data": {
      "image/png": "[encoded data removed]",
      "text/plain": [
       "<Figure size 432x288 with 1 Axes>"
      ]
     },
     "metadata": {
      "needs_background": "light"
     },
     "output_type": "display_data"
    }
   ],
   "source": [
    "# Plot KDE \n",
    "sns.kdeplot(data['age'], shade=True, color='blue')\n",
    "\n",
    "# Show plot\n",
    "plt.xlabel(\"Age\")\n",
    "plt.ylabel(\"Density\")\n",
    "plt.title(\"Age Distribution\")\n",
    "plt.show() #check the distribution of age after imputing"
   ]
  },
  {
   "cell_type": "markdown",
   "id": "98c5c123",
   "metadata": {},
   "source": [
    "## Cleaning 'Monthly Income' column"
   ]
  },
  {
   "cell_type": "code",
   "execution_count": 36,
   "id": "6262c795",
   "metadata": {},
   "outputs": [],
   "source": [
    "data['monthly_income'].fillna(data['monthly_income'].mean(),inplace=True) #fill the missing values in "
   ]
  },
  {
   "cell_type": "code",
   "execution_count": 37,
   "id": "87d20363",
   "metadata": {},
   "outputs": [
    {
     "data": {
      "text/plain": [
       "0"
      ]
     },
     "execution_count": 37,
     "metadata": {},
     "output_type": "execute_result"
    }
   ],
   "source": [
    "data['monthly_income'].isna().sum()  #confirm that there are no missing values in the monthly income column"
   ]
  },
  {
   "cell_type": "markdown",
   "id": "7830b3d6",
   "metadata": {},
   "source": [
    "## Cleaning the 'User Satisfaction Rating' column"
   ]
  },
  {
   "cell_type": "code",
   "execution_count": 38,
   "id": "252e1d54",
   "metadata": {},
   "outputs": [],
   "source": [
    "data['user_satisfaction_rating'].fillna(data['user_satisfaction_rating'].mode()[0],inplace=True)"
   ]
  },
  {
   "cell_type": "code",
   "execution_count": 39,
   "id": "c427ca95",
   "metadata": {},
   "outputs": [
    {
     "data": {
      "text/plain": [
       "0"
      ]
     },
     "execution_count": 39,
     "metadata": {},
     "output_type": "execute_result"
    }
   ],
   "source": [
    "data['user_satisfaction_rating'].isna().sum()  #confirm that there are no missing values in the user satisfaction rating column"
   ]
  },
  {
   "cell_type": "markdown",
   "id": "3c01da3a",
   "metadata": {},
   "source": [
    "## Checking for Outliers"
   ]
  },
  {
   "cell_type": "code",
   "execution_count": 40,
   "id": "a4642230",
   "metadata": {},
   "outputs": [
    {
     "data": {
      "image/png": "[encoded data removed]",
      "text/plain": [
       "<Figure size 432x288 with 1 Axes>"
      ]
     },
     "metadata": {
      "needs_background": "light"
     },
     "output_type": "display_data"
    },
    {
     "data": {
      "image/png": "[encoded data removed]",
      "text/plain": [
       "<Figure size 432x288 with 1 Axes>"
      ]
     },
     "metadata": {
      "needs_background": "light"
     },
     "output_type": "display_data"
    },
    {
     "data": {
      "image/png": "[encoded data removed]",
      "text/plain": [
       "<Figure size 432x288 with 1 Axes>"
      ]
     },
     "metadata": {
      "needs_background": "light"
     },
     "output_type": "display_data"
    },
    {
     "data": {
      "image/png": "[encoded data removed]",
      "text/plain": [
       "<Figure size 432x288 with 1 Axes>"
      ]
     },
     "metadata": {
      "needs_background": "light"
     },
     "output_type": "display_data"
    },
    {
     "data": {
      "image/png": "[encoded data removed]",
      "text/plain": [
       "<Figure size 432x288 with 1 Axes>"
      ]
     },
     "metadata": {
      "needs_background": "light"
     },
     "output_type": "display_data"
    },
    {
     "data": {
      "image/png": "[encoded data removed]",
      "text/plain": [
       "<Figure size 432x288 with 1 Axes>"
      ]
     },
     "metadata": {
      "needs_background": "light"
     },
     "output_type": "display_data"
    }
   ],
   "source": [
    "for column in data.select_dtypes(include=['int64']).columns:\n",
    "    sns.boxplot(data=data, x=column)\n",
    "    plt.title(f'Boxplot for {column}')\n",
    "    plt.show()"
   ]
  },
  {
   "cell_type": "markdown",
   "id": "5d0dd9de",
   "metadata": {},
   "source": [
    "# Exploratory Data Analysis"
   ]
  },
  {
   "cell_type": "markdown",
   "id": "60a36a23",
   "metadata": {},
   "source": [
    "The approach I used for Exploatory Data Analysis, was group the columns into User Specific columns and Insurance Plan columns, this is because, when creating a recommender system, there are different approaches to it by using Collaborative Filtering approach, where only user specific columns are used, Content Based Filtering approach, where only insurance plan columns are used and Hybrid Approach where both collaborative filtering and content based filtering can be used"
   ]
  },
  {
   "cell_type": "markdown",
   "id": "10cfecde",
   "metadata": {},
   "source": [
    "### User Specific Columns EDA"
   ]
  },
  {
   "cell_type": "markdown",
   "id": "d7fe0df3",
   "metadata": {},
   "source": [
    "'user_id', 'age', 'gender', 'country', 'region', 'employment_status', 'monthly_income', 'pre_existing_conditions', 'number_of_dependents', 'current_health_expenditure', 'previous_insurance_coverage', 'marital_status', 'education_level', 'recent_hospital_visits', 'smoking_habit', 'alcohol_consumption', 'existing_medications', 'disability_status', 'family_size'"
   ]
  },
  {
   "cell_type": "markdown",
   "id": "a1663625",
   "metadata": {},
   "source": [
    "#### Age Column"
   ]
  },
  {
   "cell_type": "code",
   "execution_count": 41,
   "id": "da1ca15e",
   "metadata": {},
   "outputs": [
    {
     "data": {
      "image/png": "[encoded data removed]",
      "text/plain": [
       "<Figure size 720x360 with 1 Axes>"
      ]
     },
     "metadata": {
      "needs_background": "light"
     },
     "output_type": "display_data"
    }
   ],
   "source": [
    "plt.figure(figsize=(10,5))\n",
    "sns.histplot(data['age'], bins=30, kde=True, color='royalblue')\n",
    "\n",
    "plt.title('Age Distribution', fontsize=14)\n",
    "plt.xlabel('Age', fontsize=12)\n",
    "plt.ylabel('Frequency', fontsize=12)\n",
    "plt.grid(axis='y', linestyle='--', alpha=0.7)\n",
    "\n",
    "plt.show()\n"
   ]
  },
  {
   "cell_type": "markdown",
   "id": "0bccc2f4",
   "metadata": {},
   "source": [
    "#### Gender Column"
   ]
  },
  {
   "cell_type": "code",
   "execution_count": 42,
   "id": "d90b47a6",
   "metadata": {},
   "outputs": [
    {
     "data": {
      "image/png": "[encoded data removed]",
      "text/plain": [
       "<Figure size 432x288 with 1 Axes>"
      ]
     },
     "metadata": {
      "needs_background": "light"
     },
     "output_type": "display_data"
    }
   ],
   "source": [
    "import pandas as pd\n",
    "import numpy as np\n",
    "import seaborn as sns\n",
    "import matplotlib.pyplot as plt\n",
    "\n",
    "sns.countplot(x='gender', data=data)\n",
    "\n",
    "plt.title('Distribution of Gender')\n",
    "plt.xlabel('Gender')\n",
    "plt.ylabel('Count')\n",
    "plt.xticks(rotation = 90)\n",
    "\n",
    "# Display the plot\n",
    "plt.show()"
   ]
  },
  {
   "cell_type": "markdown",
   "id": "7a6ed144",
   "metadata": {},
   "source": [
    "#### Region Column"
   ]
  },
  {
   "cell_type": "code",
   "execution_count": 43,
   "id": "ac4efba2",
   "metadata": {},
   "outputs": [
    {
     "data": {
      "image/png": "[encoded data removed]",
      "text/plain": [
       "<Figure size 432x288 with 1 Axes>"
      ]
     },
     "metadata": {
      "needs_background": "light"
     },
     "output_type": "display_data"
    }
   ],
   "source": [
    "import pandas as pd\n",
    "import numpy as np\n",
    "import seaborn as sns\n",
    "import matplotlib.pyplot as plt\n",
    "\n",
    "sns.countplot(x='region', data=data)\n",
    "\n",
    "plt.title('Distribution of Region')\n",
    "plt.xlabel('Region')\n",
    "plt.ylabel('Count')\n",
    "plt.xticks(rotation = 90)\n",
    "\n",
    "# Display the plot\n",
    "plt.show()"
   ]
  },
  {
   "cell_type": "markdown",
   "id": "6bfa6ab8",
   "metadata": {},
   "source": [
    "#### Employment Status Column"
   ]
  },
  {
   "cell_type": "code",
   "execution_count": 46,
   "id": "284ac8e4",
   "metadata": {},
   "outputs": [
    {
     "data": {
      "image/png": "[encoded data removed]",
      "text/plain": [
       "<Figure size 432x288 with 1 Axes>"
      ]
     },
     "metadata": {
      "needs_background": "light"
     },
     "output_type": "display_data"
    }
   ],
   "source": [
    "import pandas as pd\n",
    "import numpy as np\n",
    "import seaborn as sns\n",
    "import matplotlib.pyplot as plt\n",
    "\n",
    "sns.countplot(x='employment_status', data=data)\n",
    "\n",
    "plt.title('Distribution of Employment Status')\n",
    "plt.xlabel('Employment Status')\n",
    "plt.ylabel('Count')\n",
    "plt.xticks(rotation = 90)\n",
    "\n",
    "# Display the plot\n",
    "plt.show()"
   ]
  },
  {
   "cell_type": "markdown",
   "id": "6e4759d8",
   "metadata": {},
   "source": [
    "#### Monthly Income Column"
   ]
  },
  {
   "cell_type": "code",
   "execution_count": 66,
   "id": "3331dbad",
   "metadata": {},
   "outputs": [
    {
     "data": {
      "image/png": "[encoded data removed]",
      "text/plain": [
       "<Figure size 720x360 with 1 Axes>"
      ]
     },
     "metadata": {
      "needs_background": "light"
     },
     "output_type": "display_data"
    }
   ],
   "source": [
    " plt.figure(figsize=(10,5))\n",
    "sns.histplot(data['monthly_income'], bins=30, kde=True, color='royalblue')\n",
    "\n",
    "plt.title('Monthly Income Distribution', fontsize=14)\n",
    "plt.xlabel('Monthly Income', fontsize=12)\n",
    "plt.ylabel('Frequency', fontsize=12)\n",
    "plt.grid(axis='y', linestyle='--', alpha=0.7)\n",
    "\n",
    "plt.show()\n"
   ]
  },
  {
   "cell_type": "markdown",
   "id": "7b41b0c3",
   "metadata": {},
   "source": [
    "#### Pre Existing Conditions Column"
   ]
  },
  {
   "cell_type": "code",
   "execution_count": 52,
   "id": "d8aa31c2",
   "metadata": {},
   "outputs": [
    {
     "data": {
      "image/png": "[encoded data removed]",
      "text/plain": [
       "<Figure size 432x288 with 1 Axes>"
      ]
     },
     "metadata": {
      "needs_background": "light"
     },
     "output_type": "display_data"
    }
   ],
   "source": [
    "import pandas as pd\n",
    "import numpy as np\n",
    "import seaborn as sns\n",
    "import matplotlib.pyplot as plt\n",
    "\n",
    "sns.countplot(x='pre_existing_conditions', data=data)\n",
    "\n",
    "plt.title('Distribution of Pre-Existing Conditions')\n",
    "plt.xlabel('Pre-Existing Conditions')\n",
    "plt.ylabel('Count')\n",
    "plt.xticks(rotation = 90)\n",
    "\n",
    "# Display the plot\n",
    "plt.show()"
   ]
  },
  {
   "cell_type": "markdown",
   "id": "42e3ffb6",
   "metadata": {},
   "source": [
    "#### Marital Status Column"
   ]
  },
  {
   "cell_type": "code",
   "execution_count": 57,
   "id": "0ff077db",
   "metadata": {},
   "outputs": [
    {
     "data": {
      "image/png": "[encoded data removed]",
      "text/plain": [
       "<Figure size 432x288 with 1 Axes>"
      ]
     },
     "metadata": {
      "needs_background": "light"
     },
     "output_type": "display_data"
    }
   ],
   "source": [
    "import pandas as pd\n",
    "import numpy as np\n",
    "import seaborn as sns\n",
    "import matplotlib.pyplot as plt\n",
    "\n",
    "sns.set_palette(\"viridis\")\n",
    "sns.countplot(x='marital_status', data=data)\n",
    "\n",
    "plt.title('Distribution of Marital Status')\n",
    "plt.xlabel('Marital Status')\n",
    "plt.ylabel('Count')\n",
    "plt.xticks(rotation = 90)\n",
    "\n",
    "# Display the plot\n",
    "plt.show()"
   ]
  },
  {
   "cell_type": "markdown",
   "id": "aeb276fd",
   "metadata": {},
   "source": [
    "#### Employment Type Column"
   ]
  },
  {
   "cell_type": "code",
   "execution_count": 58,
   "id": "3acc0ef8",
   "metadata": {},
   "outputs": [
    {
     "data": {
      "image/png": "[encoded data removed]",
      "text/plain": [
       "<Figure size 432x288 with 1 Axes>"
      ]
     },
     "metadata": {
      "needs_background": "light"
     },
     "output_type": "display_data"
    }
   ],
   "source": [
    "import pandas as pd\n",
    "import numpy as np\n",
    "import seaborn as sns\n",
    "import matplotlib.pyplot as plt\n",
    "\n",
    "sns.set_palette(\"viridis\")\n",
    "sns.countplot(x='employment_type', data=data)\n",
    "\n",
    "plt.title('Distribution of Employment Type')\n",
    "plt.xlabel('Employment Type')\n",
    "plt.ylabel('Count')\n",
    "plt.xticks(rotation = 90)\n",
    "\n",
    "# Display the plot\n",
    "plt.show()"
   ]
  },
  {
   "cell_type": "markdown",
   "id": "8c7b1f5a",
   "metadata": {},
   "source": [
    "#### Education Level Column"
   ]
  },
  {
   "cell_type": "code",
   "execution_count": 61,
   "id": "e528659b",
   "metadata": {},
   "outputs": [
    {
     "data": {
      "image/png": "[encoded data removed]",
      "text/plain": [
       "<Figure size 432x288 with 1 Axes>"
      ]
     },
     "metadata": {
      "needs_background": "light"
     },
     "output_type": "display_data"
    }
   ],
   "source": [
    "import pandas as pd\n",
    "import numpy as np\n",
    "import seaborn as sns\n",
    "import matplotlib.pyplot as plt\n",
    "\n",
    "sns.set_palette(\"viridis\")\n",
    "sns.countplot(x='education_level', data=data)\n",
    "\n",
    "plt.title('Distribution of Education Level')\n",
    "plt.xlabel('Education Level')\n",
    "plt.ylabel('Count')\n",
    "plt.xticks(rotation = 90)\n",
    "\n",
    "# Display the plot\n",
    "plt.show()"
   ]
  },
  {
   "cell_type": "markdown",
   "id": "0ec30863",
   "metadata": {},
   "source": [
    "#### Previous Insurance Coverage Column"
   ]
  },
  {
   "cell_type": "code",
   "execution_count": 67,
   "id": "d86d8aee",
   "metadata": {},
   "outputs": [
    {
     "data": {
      "image/png": "[encoded data removed]",
      "text/plain": [
       "<Figure size 432x288 with 1 Axes>"
      ]
     },
     "metadata": {
      "needs_background": "light"
     },
     "output_type": "display_data"
    }
   ],
   "source": [
    "import pandas as pd\n",
    "import numpy as np\n",
    "import seaborn as sns\n",
    "import matplotlib.pyplot as plt\n",
    "\n",
    "sns.set_palette(\"viridis\")\n",
    "sns.countplot(x='previous_insurance_coverage', data=data)\n",
    "\n",
    "plt.title('Distribution of Previous Insurance Coverage')\n",
    "plt.xlabel('Previous Insurance Coverage')\n",
    "plt.ylabel('Count')\n",
    "plt.xticks(rotation = 90)\n",
    "\n",
    "# Display the plot\n",
    "plt.show()"
   ]
  },
  {
   "cell_type": "markdown",
   "id": "50ee1cd2",
   "metadata": {},
   "source": [
    "#### Current Health Expenditure Column"
   ]
  },
  {
   "cell_type": "code",
   "execution_count": 65,
   "id": "48458b3d",
   "metadata": {},
   "outputs": [
    {
     "data": {
      "image/png": "[encoded data removed]",
      "text/plain": [
       "<Figure size 720x360 with 1 Axes>"
      ]
     },
     "metadata": {
      "needs_background": "light"
     },
     "output_type": "display_data"
    }
   ],
   "source": [
    "plt.figure(figsize=(10,5))\n",
    "sns.histplot(data['current_health_expenditure'], bins=30, kde=True, color='royalblue')\n",
    "\n",
    "plt.title('Current Health Expenditure', fontsize=14)\n",
    "plt.xlabel('Current Health Expenditure', fontsize=12)\n",
    "plt.ylabel('Frequency', fontsize=12)\n",
    "plt.grid(axis='y', linestyle='--', alpha=0.7)\n",
    "\n",
    "plt.show()\n"
   ]
  },
  {
   "cell_type": "markdown",
   "id": "c5f5694d",
   "metadata": {},
   "source": [
    "### Insurance Plan Columns EDA"
   ]
  },
  {
   "cell_type": "markdown",
   "id": "35a413c9",
   "metadata": {},
   "source": [
    "'insurance_provider', 'plan_cost', 'deductible_amount', 'out_of_pocket_max', 'medication_coverage', 'maternity_coverage', 'chronic_illness_coverage', 'emergency_coverage', 'dental_coverage', 'vision_coverage', 'co_payment_preference', 'lifetime_coverage_limit', 'waiting_period_months', 'policy_expiry_date', 'preferred_hospital', 'claim_reimbursement_speed'"
   ]
  },
  {
   "cell_type": "markdown",
   "id": "9a0dd5a3",
   "metadata": {},
   "source": [
    "#### Insurance Provider Column"
   ]
  },
  {
   "cell_type": "code",
   "execution_count": 68,
   "id": "30bf78dd",
   "metadata": {},
   "outputs": [
    {
     "data": {
      "image/png": "[encoded data removed]",
      "text/plain": [
       "<Figure size 432x288 with 1 Axes>"
      ]
     },
     "metadata": {
      "needs_background": "light"
     },
     "output_type": "display_data"
    }
   ],
   "source": [
    "import pandas as pd\n",
    "import numpy as np\n",
    "import seaborn as sns\n",
    "import matplotlib.pyplot as plt\n",
    "\n",
    "sns.set_palette(\"viridis\")\n",
    "sns.countplot(x='insurance_provider', data=data)\n",
    "\n",
    "plt.title('Distribution of Insurance Provider')\n",
    "plt.xlabel('Insurance Provider')\n",
    "plt.ylabel('Count')\n",
    "plt.xticks(rotation = 90)\n",
    "\n",
    "# Display the plot\n",
    "plt.show()"
   ]
  },
  {
   "cell_type": "markdown",
   "id": "ef69551e",
   "metadata": {},
   "source": [
    "#### Plan Cost Column"
   ]
  },
  {
   "cell_type": "code",
   "execution_count": 69,
   "id": "cbccbb71",
   "metadata": {},
   "outputs": [
    {
     "data": {
      "image/png": "[encoded data removed]",
      "text/plain": [
       "<Figure size 720x360 with 1 Axes>"
      ]
     },
     "metadata": {
      "needs_background": "light"
     },
     "output_type": "display_data"
    }
   ],
   "source": [
    "plt.figure(figsize=(10,5))\n",
    "sns.histplot(data['plan_cost'], bins=30, kde=True, color='royalblue')\n",
    "\n",
    "plt.title('Plan Cost', fontsize=14)\n",
    "plt.xlabel('Plan Cost', fontsize=12)\n",
    "plt.ylabel('Frequency', fontsize=12)\n",
    "plt.grid(axis='y', linestyle='--', alpha=0.7)\n",
    "\n",
    "plt.show()\n"
   ]
  },
  {
   "cell_type": "markdown",
   "id": "e1fe93bc",
   "metadata": {},
   "source": [
    "#### Recommended Plan Column"
   ]
  },
  {
   "cell_type": "code",
   "execution_count": 72,
   "id": "622bc8a6",
   "metadata": {},
   "outputs": [
    {
     "data": {
      "image/png": "[encoded data removed]",
      "text/plain": [
       "<Figure size 432x288 with 1 Axes>"
      ]
     },
     "metadata": {
      "needs_background": "light"
     },
     "output_type": "display_data"
    }
   ],
   "source": [
    "import pandas as pd\n",
    "import numpy as np\n",
    "import seaborn as sns\n",
    "import matplotlib.pyplot as plt\n",
    "\n",
    "sns.set_palette(\"viridis\")\n",
    "sns.countplot(x='recommended_plan', data=data)\n",
    "\n",
    "plt.title('Recommended Plan')\n",
    "plt.xlabel('Recommended Plan')\n",
    "plt.ylabel('Count')\n",
    "plt.xticks(rotation = 90)\n",
    "\n",
    "# Display the plot\n",
    "plt.show()"
   ]
  },
  {
   "cell_type": "markdown",
   "id": "13931751",
   "metadata": {},
   "source": [
    "#### Hospital Preference Column"
   ]
  },
  {
   "cell_type": "code",
   "execution_count": 83,
   "id": "dd3d6247",
   "metadata": {},
   "outputs": [
    {
     "data": {
      "image/png": "[encoded data removed]",
      "text/plain": [
       "<Figure size 432x288 with 1 Axes>"
      ]
     },
     "metadata": {
      "needs_background": "light"
     },
     "output_type": "display_data"
    }
   ],
   "source": [
    "import pandas as pd\n",
    "import numpy as np\n",
    "import seaborn as sns\n",
    "import matplotlib.pyplot as plt\n",
    "\n",
    "sns.set_palette(\"viridis\")\n",
    "sns.countplot(x='hospital_preference', data=data)\n",
    "\n",
    "plt.title('Hospital Preference')\n",
    "plt.xlabel('Hospital Preference')\n",
    "plt.ylabel('Count')\n",
    "plt.xticks(rotation = 90)\n",
    "\n",
    "# Display the plot\n",
    "plt.show()"
   ]
  },
  {
   "cell_type": "markdown",
   "id": "02f47d9a",
   "metadata": {},
   "source": [
    "#### Deductible Amount Column"
   ]
  },
  {
   "cell_type": "code",
   "execution_count": 78,
   "id": "a05715ce",
   "metadata": {},
   "outputs": [
    {
     "data": {
      "image/png": "[encoded data removed]",
      "text/plain": [
       "<Figure size 720x360 with 1 Axes>"
      ]
     },
     "metadata": {
      "needs_background": "light"
     },
     "output_type": "display_data"
    }
   ],
   "source": [
    "plt.figure(figsize=(10,5))\n",
    "sns.histplot(data['out_of_pocket_max'], bins=30, kde=True, color='royalblue')\n",
    "\n",
    "plt.title('Deductible Amount', fontsize=14)\n",
    "plt.xlabel('Deductible Amount', fontsize=12)\n",
    "plt.ylabel('Frequency', fontsize=12)\n",
    "plt.grid(axis='y', linestyle='--', alpha=0.7)\n",
    "\n",
    "plt.show()\n"
   ]
  },
  {
   "cell_type": "markdown",
   "id": "62e5cf3c",
   "metadata": {},
   "source": [
    "#### Claim Reimbursement Speed Column"
   ]
  },
  {
   "cell_type": "code",
   "execution_count": 81,
   "id": "6dbe06a0",
   "metadata": {},
   "outputs": [
    {
     "data": {
      "image/png": "[encoded data removed]",
      "text/plain": [
       "<Figure size 432x288 with 1 Axes>"
      ]
     },
     "metadata": {
      "needs_background": "light"
     },
     "output_type": "display_data"
    }
   ],
   "source": [
    "import pandas as pd\n",
    "import numpy as np\n",
    "import seaborn as sns\n",
    "import matplotlib.pyplot as plt\n",
    "\n",
    "sns.set_palette(\"viridis\")\n",
    "sns.countplot(x='claim_reimbursement_speed', data=data)\n",
    "\n",
    "plt.title('Claim Reimbursement Speed')\n",
    "plt.xlabel('Claim Reimbursement Speed')\n",
    "plt.ylabel('Count')\n",
    "plt.xticks(rotation = 90)\n",
    "\n",
    "# Display the plot\n",
    "plt.show()"
   ]
  },
  {
   "cell_type": "markdown",
   "id": "fac8b897",
   "metadata": {},
   "source": [
    "#### Lifetime Coverage Limit Column"
   ]
  },
  {
   "cell_type": "code",
   "execution_count": 82,
   "id": "57e29851",
   "metadata": {},
   "outputs": [
    {
     "data": {
      "image/png": "[encoded data removed]",
      "text/plain": [
       "<Figure size 432x288 with 1 Axes>"
      ]
     },
     "metadata": {
      "needs_background": "light"
     },
     "output_type": "display_data"
    }
   ],
   "source": [
    "import pandas as pd\n",
    "import numpy as np\n",
    "import seaborn as sns\n",
    "import matplotlib.pyplot as plt\n",
    "\n",
    "sns.set_palette(\"viridis\")\n",
    "sns.countplot(x='lifetime_coverage_limit', data=data)\n",
    "\n",
    "plt.title('Lifetime Coverage Limit')\n",
    "plt.xlabel('Lifetime Coverage Limit')\n",
    "plt.ylabel('Count')\n",
    "plt.xticks(rotation = 90)\n",
    "\n",
    "# Display the plot\n",
    "plt.show()"
   ]
  },
  {
   "cell_type": "markdown",
   "id": "639c54b1",
   "metadata": {},
   "source": [
    "### Bivariate Analysis with both User Specific Columns and Insurance Plan Columns"
   ]
  },
  {
   "cell_type": "code",
   "execution_count": null,
   "id": "141c5e3f",
   "metadata": {},
   "outputs": [],
   "source": []
  }
 ],
 "metadata": {
  "kernelspec": {
   "display_name": "Python 3 (ipykernel)",
   "language": "python",
   "name": "python3"
  },
  "language_info": {
   "codemirror_mode": {
    "name": "ipython",
    "version": 3
   },
   "file_extension": ".py",
   "mimetype": "text/x-python",
   "name": "python",
   "nbconvert_exporter": "python",
   "pygments_lexer": "ipython3",
   "version": "3.9.7"
  }
 },
 "nbformat": 4,
 "nbformat_minor": 5
}
