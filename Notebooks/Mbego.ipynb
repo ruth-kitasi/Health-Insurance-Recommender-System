{
 "cells": [
  {
   "cell_type": "markdown",
   "metadata": {},
   "source": [
    "## A . Introduction"
   ]
  },
  {
   "cell_type": "markdown",
   "metadata": {},
   "source": [
    "### **HEALTH INSURANCE RECOMMENDER SYSTEM**"
   ]
  },
  {
   "cell_type": "markdown",
   "metadata": {},
   "source": [
    "### **Abstract** \n",
    "\n",
    "Health insurance is crucial for financial security and access to quality healthcare. However, selecting the right insurance plan remains a challenge due to affordability constraints, policy complexities, and limited coverage for chronic conditions. This study aims to develop a personalized Health Insurance Recommender System that suggests the most suitable insurance plans based on users’ health conditions, financial capacity, and required benefits. The system will utilize demographic-based recommendations, collaborative filtering, and affordability-based segmentation to guide users in making informed decisions. Additionally, the study will analyze socioeconomic factors affecting health insurance adoption, identify coverage gaps, and assess how policy attributes influence user preferences. The results will offer insights for insurers to enhance policy accessibility and affordability, ultimately improving insurance penetration rates in Kenya."
   ]
  },
  {
   "cell_type": "markdown",
   "metadata": {},
   "source": [
    "### **Problem Statement**\n",
    "\n",
    "In Kenya, health insurance penetration remains low, with many individuals struggling to find appropriate coverage due to affordability constraints and policy complexity. The lack of a structured recommendation system leads to misinformed choices, leaving many underinsured or uninsured. Individuals with chronic illnesses, such as asthma, diabetes, hypertension, cancer, and HIV, face even greater difficulties in obtaining sufficient coverage at an affordable rate.\n",
    "\n",
    "Current health insurance selection methods primarily rely on user research or recommendations from agents, which can be biased and limited in scope. Additionally, low-income individuals often prioritize cost over comprehensive coverage, increasing their financial burden during medical emergencies. There is a need for a data-driven recommender system that simplifies insurance selection by considering users' health conditions, financial status, and policy preferences. This study aims to bridge the gap by developing a recommender system that enhances decision-making, improves insurance accessibility, and ensures that individuals receive adequate health coverage based on their needs."
   ]
  },
  {
   "cell_type": "markdown",
   "metadata": {},
   "source": [
    "### **Health Insurance Coverage in Kenya and Challenges**  \n",
    "\n",
    "Health insurance in Kenya is primarily provided through the Social Health Authority (SHA) and private insurance companies.SHA covers formal sector employees mandatorily, while informal sector workers and low-income individuals must opt in voluntarily. Private insurers offer a range of policies tailored to different income groups, including employer-sponsored health plans, family insurance, and individual policies.  \n",
    "\n",
    "Despite these options, several challenges persist:  \n",
    "- **Low Penetration Rates**: A large portion of Kenya’s population remains uninsured, with affordability and lack of awareness being major barriers.  \n",
    "- **Affordability Issues**: High insurance premiums, deductibles, and co-payment requirements deter low-income individuals from enrolling.  \n",
    "- **Limited Coverage for Chronic Conditions**: Many insurance providers impose exclusions or high costs for individuals with pre-existing conditions like diabetes, cancer, and hypertension.  \n",
    "- **Complex Policy Structures**: The variety of policies with different benefits, exclusions, and pricing makes it difficult for users to choose the best plan.  \n",
    "- **Inadequate Public Health Insurance**: NHIF benefits are sometimes insufficient, forcing patients to pay out-of-pocket for essential services.  "
   ]
  },
  {
   "cell_type": "markdown",
   "metadata": {},
   "source": [
    "### **Objectives**\n",
    "\n",
    "\n",
    "\n",
    "### Primary Objectives\n",
    "\n",
    "1. Develop a recommender system that provides personalized insurance recommendations by analyzing a user’s pre-existing conditions, financial capacity, and required benefits, ensuring they select the most suitable coverage.\n",
    "\n",
    "2. Implement techniques such as demographic-based recommendations, collaborative filtering, and default user profiles to ensure that new users receive relevant insurance suggestions even with minimal historical data.\n",
    "\n",
    "### Secondary Objectives\n",
    "\n",
    "3. Analyze the impact of socioeconomic factors (e.g., age, gender, income, and location) on health insurance adoption and affordability.\n",
    "\n",
    "4. Identify gaps in insurance coverage by evaluating how individuals with chronic illnesses (asthma, diabetes, hypertension, cancer, HIV) are insured across different income levels.\n",
    "\n",
    "5. Develop an affordability-based insurance segmentation model to recommend the best plans for low-income individuals while ensuring sufficient coverage for chronic conditions.\n",
    "\n",
    "6. Assess the role of policy attributes (e.g., premium cost, deductibles, and benefits) in determining user preferences for health insurance selection.\n"
   ]
  },
  {
   "cell_type": "markdown",
   "metadata": {},
   "source": [
    "## B. Data Understanding & Exploration"
   ]
  }
 ],
 "metadata": {
  "language_info": {
   "name": "python"
  }
 },
 "nbformat": 4,
 "nbformat_minor": 2
}
