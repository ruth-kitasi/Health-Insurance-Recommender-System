{
 "cells": [
  {
   "cell_type": "markdown",
   "metadata": {},
   "source": [
    "<div style=\"border-top: 2px solid rgb(19, 190, 212); margin-top: 10px; margin-bottom: 10px;\"></div>\n"
   ]
  },
  {
   "cell_type": "markdown",
   "metadata": {},
   "source": [
    "## <span style=\"color:rgb(19, 190, 212);\">A. Introduction</span>"
   ]
  },
  {
   "cell_type": "markdown",
   "metadata": {},
   "source": [
    "\n",
    "### <span style=\"color:rgb(10, 127, 143);\">**HEALTH INSURANCE RECOMMENDER SYSTEM**</span>\n"
   ]
  },
  {
   "cell_type": "markdown",
   "metadata": {},
   "source": [
    "\n",
    "### <span style=\"color:rgb(10, 127, 143);\">**Abstract** </span>\n",
    "\n",
    "\n",
    "Health insurance is crucial for financial security and access to quality healthcare. However, selecting the right insurance plan remains a challenge due to affordability constraints, policy complexities, and limited coverage for chronic conditions. This study aims to develop a personalized Health Insurance Recommender System that suggests the most suitable insurance plans based on users’ health conditions, financial capacity, and required benefits. The system will utilize demographic-based recommendations, collaborative filtering, and affordability-based segmentation to guide users in making informed decisions. Additionally, the study will analyze socioeconomic factors affecting health insurance adoption, identify coverage gaps, and assess how policy attributes influence user preferences. The results will offer insights for insurers to enhance policy accessibility and affordability, ultimately improving insurance penetration rates in Kenya."
   ]
  },
  {
   "cell_type": "markdown",
   "metadata": {},
   "source": [
    "\n",
    "### <span style=\"color:rgb(10, 127, 143);\">**Problem Statement** </span>\n",
    "\n",
    "In Kenya, health insurance penetration remains low, with many individuals struggling to find appropriate coverage due to affordability constraints and policy complexity. The lack of a structured recommendation system leads to misinformed choices, leaving many underinsured or uninsured. Individuals with chronic illnesses, such as asthma, diabetes, hypertension, cancer, and HIV, face even greater difficulties in obtaining sufficient coverage at an affordable rate.\n",
    "\n",
    "Current health insurance selection methods primarily rely on user research or recommendations from agents, which can be biased and limited in scope. Additionally, low-income individuals often prioritize cost over comprehensive coverage, increasing their financial burden during medical emergencies. There is a need for a data-driven recommender system that simplifies insurance selection by considering users' health conditions, financial status, and policy preferences. This study aims to bridge the gap by developing a recommender system that enhances decision-making, improves insurance accessibility, and ensures that individuals receive adequate health coverage based on their needs."
   ]
  },
  {
   "cell_type": "markdown",
   "metadata": {},
   "source": [
    "\n",
    "### <span style=\"color:rgb(10, 127, 143);\">**Health Insurance Coverage in Kenya and Challenges**</span> \n",
    "\n",
    "\n",
    "Health insurance in Kenya is primarily provided through the Social Health Authority (SHA) and private insurance companies.SHA covers formal sector employees mandatorily, while informal sector workers and low-income individuals must opt in voluntarily. Private insurers offer a range of policies tailored to different income groups, including employer-sponsored health plans, family insurance, and individual policies.  \n",
    "\n",
    "Despite these options, several challenges persist:  \n",
    "- **Low Penetration Rates**: A large portion of Kenya’s population remains uninsured, with affordability and lack of awareness being major barriers.  \n",
    "- **Affordability Issues**: High insurance premiums, deductibles, and co-payment requirements deter low-income individuals from enrolling.  \n",
    "- **Limited Coverage for Chronic Conditions**: Many insurance providers impose exclusions or high costs for individuals with pre-existing conditions like diabetes, cancer, and hypertension.  \n",
    "- **Complex Policy Structures**: The variety of policies with different benefits, exclusions, and pricing makes it difficult for users to choose the best plan.  \n",
    "- **Inadequate Public Health Insurance**: NHIF benefits are sometimes insufficient, forcing patients to pay out-of-pocket for essential services.  "
   ]
  },
  {
   "cell_type": "markdown",
   "metadata": {},
   "source": [
    "\n",
    "### <span style=\"color:rgb(10, 127, 143);\">**Objectives**</span>\n",
    "\n",
    "\n",
    "\n",
    "####  <span style=\"color:rgb(10, 127, 143);\">Primary Objectives</span>\n",
    "\n",
    "1. Develop a recommender system that provides personalized insurance recommendations by analyzing a user’s pre-existing conditions, financial capacity, and required benefits, ensuring they select the most suitable coverage.\n",
    "\n",
    "2. Implement techniques such as demographic-based recommendations, collaborative filtering, and default user profiles to ensure that new users receive relevant insurance suggestions even with minimal historical data.\n",
    "\n",
    "####  <span style=\"color:rgb(10, 127, 143);\">Secondary Objectives</span>\n",
    "\n",
    "3. Analyze the impact of socioeconomic factors (e.g., age, gender, income, and location) on health insurance adoption and affordability.\n",
    "\n",
    "4. Identify gaps in insurance coverage by evaluating how individuals with chronic illnesses (asthma, diabetes, hypertension, cancer, HIV) are insured across different income levels.\n",
    "\n",
    "5. Develop an affordability-based insurance segmentation model to recommend the best plans for low-income individuals while ensuring sufficient coverage for chronic conditions.\n",
    "\n",
    "6. Assess the role of policy attributes (e.g., premium cost, deductibles, and benefits) in determining user preferences for health insurance selection.\n"
   ]
  },
  {
   "cell_type": "markdown",
   "metadata": {},
   "source": [
    "<div style=\"border-top: 2px solid rgb(19, 190, 212); margin-top: 10px; margin-bottom: 10px;\"></div>\n"
   ]
  },
  {
   "cell_type": "markdown",
   "metadata": {},
   "source": [
    "## <span style=\"color:rgb(19, 190, 212);\">B. Data Understanding & Exploration</span>"
   ]
  },
  {
   "cell_type": "markdown",
   "metadata": {},
   "source": [
    "\n",
    "### <span style=\"color:rgb(10, 127, 143);\">**Load the Dataset** </span>"
   ]
  },
  {
   "cell_type": "code",
   "execution_count": 3,
   "metadata": {},
   "outputs": [
    {
     "data": {
      "text/html": [
       "<div>\n",
       "<style scoped>\n",
       "    .dataframe tbody tr th:only-of-type {\n",
       "        vertical-align: middle;\n",
       "    }\n",
       "\n",
       "    .dataframe tbody tr th {\n",
       "        vertical-align: top;\n",
       "    }\n",
       "\n",
       "    .dataframe thead th {\n",
       "        text-align: right;\n",
       "    }\n",
       "</style>\n",
       "<table border=\"1\" class=\"dataframe\">\n",
       "  <thead>\n",
       "    <tr style=\"text-align: right;\">\n",
       "      <th></th>\n",
       "      <th>user_id</th>\n",
       "      <th>age</th>\n",
       "      <th>gender</th>\n",
       "      <th>country</th>\n",
       "      <th>region</th>\n",
       "      <th>employment_status</th>\n",
       "      <th>monthly_income</th>\n",
       "      <th>pre_existing_conditions</th>\n",
       "      <th>number_of_dependents</th>\n",
       "      <th>current_health_expenditure</th>\n",
       "      <th>...</th>\n",
       "      <th>education_level</th>\n",
       "      <th>recent_hospital_visits</th>\n",
       "      <th>smoking_habit</th>\n",
       "      <th>alcohol_consumption</th>\n",
       "      <th>existing_medications</th>\n",
       "      <th>disability_status</th>\n",
       "      <th>co_payment_preference</th>\n",
       "      <th>lifetime_coverage_limit</th>\n",
       "      <th>preferred_hospital</th>\n",
       "      <th>claim_reimbursement_speed</th>\n",
       "    </tr>\n",
       "  </thead>\n",
       "  <tbody>\n",
       "    <tr>\n",
       "      <th>0</th>\n",
       "      <td>1</td>\n",
       "      <td>78.0</td>\n",
       "      <td>Female</td>\n",
       "      <td>Kenya</td>\n",
       "      <td>Urban</td>\n",
       "      <td>Self-Employed</td>\n",
       "      <td>342.147528</td>\n",
       "      <td>Cancer</td>\n",
       "      <td>2</td>\n",
       "      <td>2614.37</td>\n",
       "      <td>...</td>\n",
       "      <td>Bachelor's</td>\n",
       "      <td>5</td>\n",
       "      <td>No</td>\n",
       "      <td>Yes</td>\n",
       "      <td>No</td>\n",
       "      <td>Yes</td>\n",
       "      <td>High</td>\n",
       "      <td>50000</td>\n",
       "      <td>Life Healthcare</td>\n",
       "      <td>Medium</td>\n",
       "    </tr>\n",
       "    <tr>\n",
       "      <th>1</th>\n",
       "      <td>2</td>\n",
       "      <td>27.0</td>\n",
       "      <td>Male</td>\n",
       "      <td>Kenya</td>\n",
       "      <td>Semi-Urban</td>\n",
       "      <td>Unemployed</td>\n",
       "      <td>23.271139</td>\n",
       "      <td>NaN</td>\n",
       "      <td>1</td>\n",
       "      <td>3343.49</td>\n",
       "      <td>...</td>\n",
       "      <td>Master's</td>\n",
       "      <td>10</td>\n",
       "      <td>Yes</td>\n",
       "      <td>Yes</td>\n",
       "      <td>No</td>\n",
       "      <td>Yes</td>\n",
       "      <td>High</td>\n",
       "      <td>1000000</td>\n",
       "      <td>Netcare</td>\n",
       "      <td>Slow</td>\n",
       "    </tr>\n",
       "    <tr>\n",
       "      <th>2</th>\n",
       "      <td>3</td>\n",
       "      <td>74.0</td>\n",
       "      <td>Male</td>\n",
       "      <td>Kenya</td>\n",
       "      <td>Urban</td>\n",
       "      <td>Unemployed</td>\n",
       "      <td>7605.332784</td>\n",
       "      <td>NaN</td>\n",
       "      <td>5</td>\n",
       "      <td>4615.26</td>\n",
       "      <td>...</td>\n",
       "      <td>Diploma</td>\n",
       "      <td>1</td>\n",
       "      <td>No</td>\n",
       "      <td>Yes</td>\n",
       "      <td>Yes</td>\n",
       "      <td>Yes</td>\n",
       "      <td>High</td>\n",
       "      <td>1000000</td>\n",
       "      <td>Netcare</td>\n",
       "      <td>Fast</td>\n",
       "    </tr>\n",
       "    <tr>\n",
       "      <th>3</th>\n",
       "      <td>4</td>\n",
       "      <td>38.0</td>\n",
       "      <td>Male</td>\n",
       "      <td>Kenya</td>\n",
       "      <td>Rural</td>\n",
       "      <td>Employed</td>\n",
       "      <td>2349.243288</td>\n",
       "      <td>Cancer</td>\n",
       "      <td>3</td>\n",
       "      <td>612.38</td>\n",
       "      <td>...</td>\n",
       "      <td>Diploma</td>\n",
       "      <td>5</td>\n",
       "      <td>No</td>\n",
       "      <td>Yes</td>\n",
       "      <td>No</td>\n",
       "      <td>No</td>\n",
       "      <td>High</td>\n",
       "      <td>1000000</td>\n",
       "      <td>Netcare</td>\n",
       "      <td>Medium</td>\n",
       "    </tr>\n",
       "    <tr>\n",
       "      <th>4</th>\n",
       "      <td>5</td>\n",
       "      <td>43.0</td>\n",
       "      <td>Male</td>\n",
       "      <td>Kenya</td>\n",
       "      <td>Urban</td>\n",
       "      <td>Employed</td>\n",
       "      <td>17.187938</td>\n",
       "      <td>Asthma</td>\n",
       "      <td>4</td>\n",
       "      <td>2314.12</td>\n",
       "      <td>...</td>\n",
       "      <td>Bachelor's</td>\n",
       "      <td>0</td>\n",
       "      <td>No</td>\n",
       "      <td>Yes</td>\n",
       "      <td>No</td>\n",
       "      <td>Yes</td>\n",
       "      <td>High</td>\n",
       "      <td>1000000</td>\n",
       "      <td>Aga Khan Hospital</td>\n",
       "      <td>Fast</td>\n",
       "    </tr>\n",
       "  </tbody>\n",
       "</table>\n",
       "<p>5 rows × 42 columns</p>\n",
       "</div>"
      ],
      "text/plain": [
       "   user_id   age  gender country      region employment_status  \\\n",
       "0        1  78.0  Female   Kenya       Urban     Self-Employed   \n",
       "1        2  27.0    Male   Kenya  Semi-Urban        Unemployed   \n",
       "2        3  74.0    Male   Kenya       Urban        Unemployed   \n",
       "3        4  38.0    Male   Kenya       Rural          Employed   \n",
       "4        5  43.0    Male   Kenya       Urban          Employed   \n",
       "\n",
       "   monthly_income pre_existing_conditions  number_of_dependents  \\\n",
       "0      342.147528                  Cancer                     2   \n",
       "1       23.271139                     NaN                     1   \n",
       "2     7605.332784                     NaN                     5   \n",
       "3     2349.243288                  Cancer                     3   \n",
       "4       17.187938                  Asthma                     4   \n",
       "\n",
       "   current_health_expenditure  ... education_level recent_hospital_visits  \\\n",
       "0                     2614.37  ...      Bachelor's                      5   \n",
       "1                     3343.49  ...        Master's                     10   \n",
       "2                     4615.26  ...         Diploma                      1   \n",
       "3                      612.38  ...         Diploma                      5   \n",
       "4                     2314.12  ...      Bachelor's                      0   \n",
       "\n",
       "  smoking_habit alcohol_consumption  existing_medications  disability_status  \\\n",
       "0            No                 Yes                    No                Yes   \n",
       "1           Yes                 Yes                    No                Yes   \n",
       "2            No                 Yes                   Yes                Yes   \n",
       "3            No                 Yes                    No                 No   \n",
       "4            No                 Yes                    No                Yes   \n",
       "\n",
       "   co_payment_preference lifetime_coverage_limit preferred_hospital  \\\n",
       "0                   High                   50000    Life Healthcare   \n",
       "1                   High                 1000000            Netcare   \n",
       "2                   High                 1000000            Netcare   \n",
       "3                   High                 1000000            Netcare   \n",
       "4                   High                 1000000  Aga Khan Hospital   \n",
       "\n",
       "  claim_reimbursement_speed  \n",
       "0                    Medium  \n",
       "1                      Slow  \n",
       "2                      Fast  \n",
       "3                    Medium  \n",
       "4                      Fast  \n",
       "\n",
       "[5 rows x 42 columns]"
      ]
     },
     "execution_count": 3,
     "metadata": {},
     "output_type": "execute_result"
    }
   ],
   "source": [
    "import pandas as pd\n",
    "df = pd.read_csv(r\"N:\\Moringa\\afterM\\Health Insurance\\Health-Insurance-Recommender-System\\health_insurance_recommender.csv\")\n",
    "df.head()"
   ]
  },
  {
   "cell_type": "markdown",
   "metadata": {},
   "source": [
    "\n",
    "#### <span style=\"color:rgb(10, 127, 143);\">**Columns/features Descriptions**</span>"
   ]
  },
  {
   "cell_type": "code",
   "execution_count": 4,
   "metadata": {},
   "outputs": [
    {
     "data": {
      "text/html": [
       "<div>\n",
       "<style scoped>\n",
       "    .dataframe tbody tr th:only-of-type {\n",
       "        vertical-align: middle;\n",
       "    }\n",
       "\n",
       "    .dataframe tbody tr th {\n",
       "        vertical-align: top;\n",
       "    }\n",
       "\n",
       "    .dataframe thead th {\n",
       "        text-align: right;\n",
       "    }\n",
       "</style>\n",
       "<table border=\"1\" class=\"dataframe\">\n",
       "  <thead>\n",
       "    <tr style=\"text-align: right;\">\n",
       "      <th></th>\n",
       "      <th>Feature</th>\n",
       "      <th>Definition</th>\n",
       "    </tr>\n",
       "  </thead>\n",
       "  <tbody>\n",
       "    <tr>\n",
       "      <th>0</th>\n",
       "      <td>user_id</td>\n",
       "      <td>Unique identifier for each user</td>\n",
       "    </tr>\n",
       "    <tr>\n",
       "      <th>1</th>\n",
       "      <td>age</td>\n",
       "      <td>Age of the user</td>\n",
       "    </tr>\n",
       "    <tr>\n",
       "      <th>2</th>\n",
       "      <td>gender</td>\n",
       "      <td>Gender of the user (Male, Female, Other)</td>\n",
       "    </tr>\n",
       "    <tr>\n",
       "      <th>3</th>\n",
       "      <td>country</td>\n",
       "      <td>Country of residence</td>\n",
       "    </tr>\n",
       "    <tr>\n",
       "      <th>4</th>\n",
       "      <td>monthly_income</td>\n",
       "      <td>User's monthly income in USD</td>\n",
       "    </tr>\n",
       "    <tr>\n",
       "      <th>5</th>\n",
       "      <td>health_condition</td>\n",
       "      <td>Primary health condition of the user (e.g., Di...</td>\n",
       "    </tr>\n",
       "    <tr>\n",
       "      <th>6</th>\n",
       "      <td>plan_cost</td>\n",
       "      <td>Monthly cost of the insurance plan in USD</td>\n",
       "    </tr>\n",
       "    <tr>\n",
       "      <th>7</th>\n",
       "      <td>deductible_amount</td>\n",
       "      <td>Amount user pays before insurance covers expenses</td>\n",
       "    </tr>\n",
       "    <tr>\n",
       "      <th>8</th>\n",
       "      <td>out_of_pocket_max</td>\n",
       "      <td>Maximum amount user pays per year before full ...</td>\n",
       "    </tr>\n",
       "    <tr>\n",
       "      <th>9</th>\n",
       "      <td>family_size</td>\n",
       "      <td>Number of dependents in the family</td>\n",
       "    </tr>\n",
       "    <tr>\n",
       "      <th>10</th>\n",
       "      <td>marital_status</td>\n",
       "      <td>User's marital status (Single, Married, Divorc...</td>\n",
       "    </tr>\n",
       "    <tr>\n",
       "      <th>11</th>\n",
       "      <td>employment_type</td>\n",
       "      <td>User's employment type (Salaried, Self-employe...</td>\n",
       "    </tr>\n",
       "    <tr>\n",
       "      <th>12</th>\n",
       "      <td>education_level</td>\n",
       "      <td>Highest level of education attained by the user</td>\n",
       "    </tr>\n",
       "    <tr>\n",
       "      <th>13</th>\n",
       "      <td>recent_hospital_visits</td>\n",
       "      <td>Number of hospital visits in the past year</td>\n",
       "    </tr>\n",
       "    <tr>\n",
       "      <th>14</th>\n",
       "      <td>smoking_habit</td>\n",
       "      <td>Whether the user smokes (Yes, No)</td>\n",
       "    </tr>\n",
       "    <tr>\n",
       "      <th>15</th>\n",
       "      <td>alcohol_consumption</td>\n",
       "      <td>Whether the user consumes alcohol (Yes, No)</td>\n",
       "    </tr>\n",
       "    <tr>\n",
       "      <th>16</th>\n",
       "      <td>existing_medications</td>\n",
       "      <td>Whether the user is on long-term medication (Y...</td>\n",
       "    </tr>\n",
       "    <tr>\n",
       "      <th>17</th>\n",
       "      <td>disability_status</td>\n",
       "      <td>Whether the user has a disability (Yes, No)</td>\n",
       "    </tr>\n",
       "    <tr>\n",
       "      <th>18</th>\n",
       "      <td>co_payment_preference</td>\n",
       "      <td>User's preference for co-payment level (Low, M...</td>\n",
       "    </tr>\n",
       "    <tr>\n",
       "      <th>19</th>\n",
       "      <td>lifetime_coverage_limit</td>\n",
       "      <td>Maximum lifetime coverage amount in USD</td>\n",
       "    </tr>\n",
       "    <tr>\n",
       "      <th>20</th>\n",
       "      <td>claim_reimbursement_speed</td>\n",
       "      <td>Speed of claim reimbursement (Fast, Medium, Slow)</td>\n",
       "    </tr>\n",
       "    <tr>\n",
       "      <th>21</th>\n",
       "      <td>insurance_effective_time</td>\n",
       "      <td>Time taken for the insurance plan to start bei...</td>\n",
       "    </tr>\n",
       "    <tr>\n",
       "      <th>22</th>\n",
       "      <td>target_plan</td>\n",
       "      <td>Recommended insurance plan based on user profile</td>\n",
       "    </tr>\n",
       "  </tbody>\n",
       "</table>\n",
       "</div>"
      ],
      "text/plain": [
       "                      Feature  \\\n",
       "0                     user_id   \n",
       "1                         age   \n",
       "2                      gender   \n",
       "3                     country   \n",
       "4              monthly_income   \n",
       "5            health_condition   \n",
       "6                   plan_cost   \n",
       "7           deductible_amount   \n",
       "8           out_of_pocket_max   \n",
       "9                 family_size   \n",
       "10             marital_status   \n",
       "11            employment_type   \n",
       "12            education_level   \n",
       "13     recent_hospital_visits   \n",
       "14              smoking_habit   \n",
       "15        alcohol_consumption   \n",
       "16       existing_medications   \n",
       "17          disability_status   \n",
       "18      co_payment_preference   \n",
       "19    lifetime_coverage_limit   \n",
       "20  claim_reimbursement_speed   \n",
       "21   insurance_effective_time   \n",
       "22                target_plan   \n",
       "\n",
       "                                           Definition  \n",
       "0                     Unique identifier for each user  \n",
       "1                                     Age of the user  \n",
       "2            Gender of the user (Male, Female, Other)  \n",
       "3                                Country of residence  \n",
       "4                        User's monthly income in USD  \n",
       "5   Primary health condition of the user (e.g., Di...  \n",
       "6           Monthly cost of the insurance plan in USD  \n",
       "7   Amount user pays before insurance covers expenses  \n",
       "8   Maximum amount user pays per year before full ...  \n",
       "9                  Number of dependents in the family  \n",
       "10  User's marital status (Single, Married, Divorc...  \n",
       "11  User's employment type (Salaried, Self-employe...  \n",
       "12    Highest level of education attained by the user  \n",
       "13         Number of hospital visits in the past year  \n",
       "14                  Whether the user smokes (Yes, No)  \n",
       "15        Whether the user consumes alcohol (Yes, No)  \n",
       "16  Whether the user is on long-term medication (Y...  \n",
       "17        Whether the user has a disability (Yes, No)  \n",
       "18  User's preference for co-payment level (Low, M...  \n",
       "19            Maximum lifetime coverage amount in USD  \n",
       "20  Speed of claim reimbursement (Fast, Medium, Slow)  \n",
       "21  Time taken for the insurance plan to start bei...  \n",
       "22   Recommended insurance plan based on user profile  "
      ]
     },
     "execution_count": 4,
     "metadata": {},
     "output_type": "execute_result"
    }
   ],
   "source": [
    "dfcols = pd.read_excel(r\"N:\\Moringa\\afterM\\Health Insurance\\Health-Insurance-Recommender-System\\health_insurance_features_definitions.xlsx\")\n",
    "dfcols.head(30)"
   ]
  },
  {
   "cell_type": "markdown",
   "metadata": {},
   "source": [
    "\n",
    "### <span style=\"color:rgb(10, 127, 143);\">**Summary Statistics** </span>"
   ]
  },
  {
   "cell_type": "code",
   "execution_count": 5,
   "metadata": {},
   "outputs": [
    {
     "data": {
      "text/plain": [
       "(52500, 42)"
      ]
     },
     "execution_count": 5,
     "metadata": {},
     "output_type": "execute_result"
    }
   ],
   "source": [
    "df.shape"
   ]
  },
  {
   "cell_type": "markdown",
   "metadata": {},
   "source": [
    "We have a dataset of 52,500 individuals, each described by 42 different attributes, including demographic details, health status, and financial capacity. These features will help in analyzing trends, building predictive models, and making personalized insurance recommendations."
   ]
  },
  {
   "cell_type": "code",
   "execution_count": 6,
   "metadata": {},
   "outputs": [
    {
     "name": "stdout",
     "output_type": "stream",
     "text": [
      "<class 'pandas.core.frame.DataFrame'>\n",
      "RangeIndex: 52500 entries, 0 to 52499\n",
      "Data columns (total 42 columns):\n",
      " #   Column                       Non-Null Count  Dtype  \n",
      "---  ------                       --------------  -----  \n",
      " 0   user_id                      52500 non-null  int64  \n",
      " 1   age                          49859 non-null  float64\n",
      " 2   gender                       52500 non-null  object \n",
      " 3   country                      52500 non-null  object \n",
      " 4   region                       52500 non-null  object \n",
      " 5   employment_status            52500 non-null  object \n",
      " 6   monthly_income               49864 non-null  float64\n",
      " 7   pre_existing_conditions      43941 non-null  object \n",
      " 8   number_of_dependents         52500 non-null  int64  \n",
      " 9   current_health_expenditure   52500 non-null  float64\n",
      " 10  hospital_preference          52500 non-null  object \n",
      " 11  previous_insurance_coverage  52500 non-null  object \n",
      " 12  preferred_coverage_type      52500 non-null  object \n",
      " 13  insurance_provider           52500 non-null  object \n",
      " 14  plan_cost                    52500 non-null  float64\n",
      " 15  deductible_amount            52500 non-null  float64\n",
      " 16  out_of_pocket_max            52500 non-null  float64\n",
      " 17  medication_coverage          52500 non-null  object \n",
      " 18  maternity_coverage           52500 non-null  object \n",
      " 19  chronic_illness_coverage     52500 non-null  object \n",
      " 20  emergency_coverage           52500 non-null  object \n",
      " 21  dental_coverage              52500 non-null  object \n",
      " 22  vision_coverage              52500 non-null  object \n",
      " 23  user_satisfaction_rating     49881 non-null  float64\n",
      " 24  recommended_plan             52500 non-null  object \n",
      " 25  policy_expiry_date           52500 non-null  object \n",
      " 26  duplicate_plan_cost          52500 non-null  float64\n",
      " 27  duplicate_country            52500 non-null  object \n",
      " 28  waiting_period_months        52500 non-null  int64  \n",
      " 29  family_size                  52500 non-null  int64  \n",
      " 30  marital_status               52500 non-null  object \n",
      " 31  employment_type              52500 non-null  object \n",
      " 32  education_level              52500 non-null  object \n",
      " 33  recent_hospital_visits       52500 non-null  int64  \n",
      " 34  smoking_habit                52500 non-null  object \n",
      " 35  alcohol_consumption          52500 non-null  object \n",
      " 36  existing_medications         52500 non-null  object \n",
      " 37  disability_status            52500 non-null  object \n",
      " 38  co_payment_preference        52500 non-null  object \n",
      " 39  lifetime_coverage_limit      52500 non-null  int64  \n",
      " 40  preferred_hospital           52500 non-null  object \n",
      " 41  claim_reimbursement_speed    52500 non-null  object \n",
      "dtypes: float64(8), int64(6), object(28)\n",
      "memory usage: 16.8+ MB\n"
     ]
    }
   ],
   "source": [
    "df.info()"
   ]
  },
  {
   "cell_type": "code",
   "execution_count": 7,
   "metadata": {},
   "outputs": [
    {
     "data": {
      "text/html": [
       "<div>\n",
       "<style scoped>\n",
       "    .dataframe tbody tr th:only-of-type {\n",
       "        vertical-align: middle;\n",
       "    }\n",
       "\n",
       "    .dataframe tbody tr th {\n",
       "        vertical-align: top;\n",
       "    }\n",
       "\n",
       "    .dataframe thead th {\n",
       "        text-align: right;\n",
       "    }\n",
       "</style>\n",
       "<table border=\"1\" class=\"dataframe\">\n",
       "  <thead>\n",
       "    <tr style=\"text-align: right;\">\n",
       "      <th></th>\n",
       "      <th>user_id</th>\n",
       "      <th>age</th>\n",
       "      <th>monthly_income</th>\n",
       "      <th>number_of_dependents</th>\n",
       "      <th>current_health_expenditure</th>\n",
       "      <th>plan_cost</th>\n",
       "      <th>deductible_amount</th>\n",
       "      <th>out_of_pocket_max</th>\n",
       "      <th>user_satisfaction_rating</th>\n",
       "      <th>duplicate_plan_cost</th>\n",
       "      <th>waiting_period_months</th>\n",
       "      <th>family_size</th>\n",
       "      <th>recent_hospital_visits</th>\n",
       "      <th>lifetime_coverage_limit</th>\n",
       "    </tr>\n",
       "  </thead>\n",
       "  <tbody>\n",
       "    <tr>\n",
       "      <th>count</th>\n",
       "      <td>52500.000000</td>\n",
       "      <td>49859.000000</td>\n",
       "      <td>49864.000000</td>\n",
       "      <td>52500.000000</td>\n",
       "      <td>52500.000000</td>\n",
       "      <td>52500.000000</td>\n",
       "      <td>52500.000000</td>\n",
       "      <td>52500.000000</td>\n",
       "      <td>49881.000000</td>\n",
       "      <td>52500.000000</td>\n",
       "      <td>52500.000000</td>\n",
       "      <td>52500.000000</td>\n",
       "      <td>52500.000000</td>\n",
       "      <td>52500.000000</td>\n",
       "    </tr>\n",
       "    <tr>\n",
       "      <th>mean</th>\n",
       "      <td>24980.571486</td>\n",
       "      <td>48.535911</td>\n",
       "      <td>2229.294781</td>\n",
       "      <td>2.492286</td>\n",
       "      <td>2542.757659</td>\n",
       "      <td>599.710239</td>\n",
       "      <td>113.864270</td>\n",
       "      <td>381.808335</td>\n",
       "      <td>3.001423</td>\n",
       "      <td>27581.730840</td>\n",
       "      <td>4.911219</td>\n",
       "      <td>3.501067</td>\n",
       "      <td>4.990590</td>\n",
       "      <td>315353.333333</td>\n",
       "    </tr>\n",
       "    <tr>\n",
       "      <th>std</th>\n",
       "      <td>14433.032416</td>\n",
       "      <td>17.922048</td>\n",
       "      <td>3993.264625</td>\n",
       "      <td>1.705581</td>\n",
       "      <td>1416.930992</td>\n",
       "      <td>1029.239746</td>\n",
       "      <td>200.843563</td>\n",
       "      <td>634.008554</td>\n",
       "      <td>1.419540</td>\n",
       "      <td>13051.249725</td>\n",
       "      <td>6.010216</td>\n",
       "      <td>1.709279</td>\n",
       "      <td>3.155993</td>\n",
       "      <td>347630.969987</td>\n",
       "    </tr>\n",
       "    <tr>\n",
       "      <th>min</th>\n",
       "      <td>1.000000</td>\n",
       "      <td>18.000000</td>\n",
       "      <td>1.281549</td>\n",
       "      <td>0.000000</td>\n",
       "      <td>100.030000</td>\n",
       "      <td>1.260237</td>\n",
       "      <td>0.126121</td>\n",
       "      <td>1.260728</td>\n",
       "      <td>1.000000</td>\n",
       "      <td>5000.160000</td>\n",
       "      <td>0.000000</td>\n",
       "      <td>1.000000</td>\n",
       "      <td>0.000000</td>\n",
       "      <td>0.000000</td>\n",
       "    </tr>\n",
       "    <tr>\n",
       "      <th>25%</th>\n",
       "      <td>12479.750000</td>\n",
       "      <td>33.000000</td>\n",
       "      <td>59.004709</td>\n",
       "      <td>1.000000</td>\n",
       "      <td>1316.652500</td>\n",
       "      <td>22.398519</td>\n",
       "      <td>3.185938</td>\n",
       "      <td>21.623265</td>\n",
       "      <td>2.000000</td>\n",
       "      <td>16220.612500</td>\n",
       "      <td>1.000000</td>\n",
       "      <td>2.000000</td>\n",
       "      <td>2.000000</td>\n",
       "      <td>50000.000000</td>\n",
       "    </tr>\n",
       "    <tr>\n",
       "      <th>50%</th>\n",
       "      <td>24974.500000</td>\n",
       "      <td>48.000000</td>\n",
       "      <td>611.079480</td>\n",
       "      <td>2.000000</td>\n",
       "      <td>2540.765000</td>\n",
       "      <td>168.510240</td>\n",
       "      <td>31.528224</td>\n",
       "      <td>107.380008</td>\n",
       "      <td>3.000000</td>\n",
       "      <td>27641.475000</td>\n",
       "      <td>3.000000</td>\n",
       "      <td>4.000000</td>\n",
       "      <td>5.000000</td>\n",
       "      <td>100000.000000</td>\n",
       "    </tr>\n",
       "    <tr>\n",
       "      <th>75%</th>\n",
       "      <td>37471.250000</td>\n",
       "      <td>64.000000</td>\n",
       "      <td>1360.548180</td>\n",
       "      <td>4.000000</td>\n",
       "      <td>3766.235000</td>\n",
       "      <td>354.352950</td>\n",
       "      <td>69.125184</td>\n",
       "      <td>215.736066</td>\n",
       "      <td>4.000000</td>\n",
       "      <td>38970.142500</td>\n",
       "      <td>6.000000</td>\n",
       "      <td>5.000000</td>\n",
       "      <td>8.000000</td>\n",
       "      <td>500000.000000</td>\n",
       "    </tr>\n",
       "    <tr>\n",
       "      <th>max</th>\n",
       "      <td>50000.000000</td>\n",
       "      <td>79.000000</td>\n",
       "      <td>19434.987400</td>\n",
       "      <td>5.000000</td>\n",
       "      <td>4999.990000</td>\n",
       "      <td>4859.763804</td>\n",
       "      <td>971.922240</td>\n",
       "      <td>2915.811432</td>\n",
       "      <td>5.000000</td>\n",
       "      <td>49999.710000</td>\n",
       "      <td>24.000000</td>\n",
       "      <td>6.000000</td>\n",
       "      <td>10.000000</td>\n",
       "      <td>1000000.000000</td>\n",
       "    </tr>\n",
       "  </tbody>\n",
       "</table>\n",
       "</div>"
      ],
      "text/plain": [
       "            user_id           age  monthly_income  number_of_dependents  \\\n",
       "count  52500.000000  49859.000000    49864.000000          52500.000000   \n",
       "mean   24980.571486     48.535911     2229.294781              2.492286   \n",
       "std    14433.032416     17.922048     3993.264625              1.705581   \n",
       "min        1.000000     18.000000        1.281549              0.000000   \n",
       "25%    12479.750000     33.000000       59.004709              1.000000   \n",
       "50%    24974.500000     48.000000      611.079480              2.000000   \n",
       "75%    37471.250000     64.000000     1360.548180              4.000000   \n",
       "max    50000.000000     79.000000    19434.987400              5.000000   \n",
       "\n",
       "       current_health_expenditure     plan_cost  deductible_amount  \\\n",
       "count                52500.000000  52500.000000       52500.000000   \n",
       "mean                  2542.757659    599.710239         113.864270   \n",
       "std                   1416.930992   1029.239746         200.843563   \n",
       "min                    100.030000      1.260237           0.126121   \n",
       "25%                   1316.652500     22.398519           3.185938   \n",
       "50%                   2540.765000    168.510240          31.528224   \n",
       "75%                   3766.235000    354.352950          69.125184   \n",
       "max                   4999.990000   4859.763804         971.922240   \n",
       "\n",
       "       out_of_pocket_max  user_satisfaction_rating  duplicate_plan_cost  \\\n",
       "count       52500.000000              49881.000000         52500.000000   \n",
       "mean          381.808335                  3.001423         27581.730840   \n",
       "std           634.008554                  1.419540         13051.249725   \n",
       "min             1.260728                  1.000000          5000.160000   \n",
       "25%            21.623265                  2.000000         16220.612500   \n",
       "50%           107.380008                  3.000000         27641.475000   \n",
       "75%           215.736066                  4.000000         38970.142500   \n",
       "max          2915.811432                  5.000000         49999.710000   \n",
       "\n",
       "       waiting_period_months   family_size  recent_hospital_visits  \\\n",
       "count           52500.000000  52500.000000            52500.000000   \n",
       "mean                4.911219      3.501067                4.990590   \n",
       "std                 6.010216      1.709279                3.155993   \n",
       "min                 0.000000      1.000000                0.000000   \n",
       "25%                 1.000000      2.000000                2.000000   \n",
       "50%                 3.000000      4.000000                5.000000   \n",
       "75%                 6.000000      5.000000                8.000000   \n",
       "max                24.000000      6.000000               10.000000   \n",
       "\n",
       "       lifetime_coverage_limit  \n",
       "count             52500.000000  \n",
       "mean             315353.333333  \n",
       "std              347630.969987  \n",
       "min                   0.000000  \n",
       "25%               50000.000000  \n",
       "50%              100000.000000  \n",
       "75%              500000.000000  \n",
       "max             1000000.000000  "
      ]
     },
     "execution_count": 7,
     "metadata": {},
     "output_type": "execute_result"
    }
   ],
   "source": [
    "df.describe()"
   ]
  },
  {
   "cell_type": "markdown",
   "metadata": {},
   "source": [
    "### <span style=\"color:rgb(10, 127, 143);\">**Data Cleaning** </span>"
   ]
  },
  {
   "cell_type": "markdown",
   "metadata": {},
   "source": [
    "#### <span style=\"color:rgb(10, 127, 143);\">**Verifying Missing values from summary stats** </span>"
   ]
  },
  {
   "cell_type": "code",
   "execution_count": 8,
   "metadata": {},
   "outputs": [
    {
     "name": "stdout",
     "output_type": "stream",
     "text": [
      "age                         2641\n",
      "monthly_income              2636\n",
      "pre_existing_conditions     8559\n",
      "user_satisfaction_rating    2619\n",
      "dtype: int64\n"
     ]
    }
   ],
   "source": [
    "# Filter and display only columns with missing values\n",
    "missing_values = df.isnull().sum()\n",
    "missing_columns = missing_values[missing_values > 0]\n",
    "\n",
    "print(missing_columns)\n"
   ]
  },
  {
   "cell_type": "markdown",
   "metadata": {},
   "source": [
    "#### <span style=\"color:rgb(10, 127, 143);\">**Handling Missing Values** </span>\n",
    "\n",
    "I'll handle missing values based on the feature type,Domain knowledge and Distrubtions:\n",
    "\n",
    "Numerical i.e, \n",
    "* `monthly_income` → Fill with the median (better than mean for skewed distributions).\n",
    "* `age` → filled based on disribution type \n",
    "* `user_satisfaction_rating` → fill with mode to retain information , and patch the 2619 with most ratings from the dataset\n",
    "\n",
    "\n",
    "Categorical \n",
    "* `pre_existing_conditions` → Fill with \"Unknown\" (to retain information rather than dropping rows).**\n",
    "\n",
    "-\n"
   ]
  },
  {
   "cell_type": "markdown",
   "metadata": {},
   "source": [
    "\n",
    "> <span style=\"color:rgb(10, 127, 143);\">**Clean Missing Values** </span>\n",
    "\n",
    "##### <span style=\"color:rgb(10, 127, 143);\">**Numerical** </span>"
   ]
  },
  {
   "cell_type": "markdown",
   "metadata": {},
   "source": [
    "1. `age`"
   ]
  },
  {
   "cell_type": "code",
   "execution_count": 9,
   "metadata": {},
   "outputs": [
    {
     "data": {
      "image/png": "[encoded data removed]",
      "text/plain": [
       "<Figure size 640x480 with 1 Axes>"
      ]
     },
     "metadata": {},
     "output_type": "display_data"
    }
   ],
   "source": [
    "import matplotlib.pyplot as plt\n",
    "import seaborn as sns\n",
    "\n",
    "sns.histplot(df['age'], bins =30, kde=True)\n",
    "\n",
    "plt.title('Distribution of age')\n",
    "plt.xlabel('value')\n",
    "plt.ylabel('Frequency')\n",
    "plt.show()"
   ]
  },
  {
   "cell_type": "markdown",
   "metadata": {},
   "source": [
    "Apart from the end outliers , I'll treat the distribution as a normal ,for better Variabilty and to preserve natural variation, I choose: filling missing values using random values drawn from a normal distribution with mean 48.535911 and SD 17.922048: (i.e, from summary stats)\n",
    "\n",
    "* Retains the distribution’s natural randomness."
   ]
  },
  {
   "cell_type": "code",
   "execution_count": 10,
   "metadata": {},
   "outputs": [],
   "source": [
    "import numpy as np\n",
    "# Generate random values following `mean and sd`\n",
    "missing_count = df['age'].isnull().sum()\n",
    "random_values = np.random.normal(48.535911, 17.922048, missing_count)\n",
    "\n",
    "# Assign random values to missing data\n",
    "df.loc[df['age'].isnull(), 'age'] = random_values\n",
    "\n"
   ]
  },
  {
   "cell_type": "markdown",
   "metadata": {},
   "source": [
    "2. `monthly_income` * `pre_exisiting_conditions` * `user_satisfaction_rating`"
   ]
  },
  {
   "cell_type": "code",
   "execution_count": 11,
   "metadata": {},
   "outputs": [],
   "source": [
    "df.loc[:, 'monthly_income'] = df['monthly_income'].fillna(df['monthly_income'].mean())\n",
    "df.loc[:, 'pre_existing_conditions'] = df['pre_existing_conditions'].fillna(\"Unknown\")\n",
    "df.loc[:, 'user_satisfaction_rating'] = df['user_satisfaction_rating'].fillna(df['user_satisfaction_rating'].mode()[0])\n",
    "\n",
    "\n",
    "# Taking the average (mean) helps retain the overall distribution without skewing too high or low.\n",
    "# Instead of guessing, we label missing values as \"Unknown\" to avoid false assumptions.\n",
    "# The mode (most common value) fills gaps while keeping the general sentiment intact."
   ]
  },
  {
   "cell_type": "markdown",
   "metadata": {},
   "source": [
    "##### <span style=\"color:rgb(10, 127, 143);\">**Categorical**</span>"
   ]
  },
  {
   "cell_type": "markdown",
   "metadata": {},
   "source": [
    "3. `pre_existing_conditions`"
   ]
  },
  {
   "cell_type": "code",
   "execution_count": 12,
   "metadata": {},
   "outputs": [],
   "source": [
    "df.loc[:, 'pre_existing_conditions'] = df['pre_existing_conditions'].fillna(\"Unknown\")"
   ]
  },
  {
   "cell_type": "code",
   "execution_count": 13,
   "metadata": {},
   "outputs": [
    {
     "name": "stdout",
     "output_type": "stream",
     "text": [
      "No missing values\n"
     ]
    }
   ],
   "source": [
    "missing_values = df.isnull().sum()\n",
    "missing_columns = missing_values[missing_values > 0]\n",
    "\n",
    "if missing_columns.empty:\n",
    "    print(\"No missing values\")\n",
    "else:\n",
    "    print(\"Missing values available in:\", list(missing_columns.index))\n"
   ]
  },
  {
   "cell_type": "markdown",
   "metadata": {},
   "source": [
    "#### <span style=\"color:rgb(10, 127, 143);\">**Outlier Detection & Handling** </span>"
   ]
  },
  {
   "cell_type": "markdown",
   "metadata": {},
   "source": [
    "##### <span style=\"color:rgb(10, 127, 143);\">**Visualizing Outliers** </span>"
   ]
  },
  {
   "cell_type": "markdown",
   "metadata": {},
   "source": [
    "##### <span style=\"color:rgb(10, 127, 143);\">**Statistical Outlier Detection (IQR Method)** </span>"
   ]
  },
  {
   "cell_type": "markdown",
   "metadata": {},
   "source": [
    "The following step will be resumed after visualizations to give room for better contribution and analysis of raw data. i.e, understand the raw data distribution"
   ]
  },
  {
   "cell_type": "markdown",
   "metadata": {},
   "source": [
    "### <span style=\"color:rgb(10, 127, 143);\">**Data Visualization** </span>"
   ]
  },
  {
   "cell_type": "markdown",
   "metadata": {},
   "source": [
    "#### <span style=\"color:rgb(10, 127, 143);\">**Univariate Analysis (Single Variable)** </span>\n",
    "\n",
    "Understand the distribution of individual features."
   ]
  },
  {
   "cell_type": "markdown",
   "metadata": {},
   "source": [
    "##### <span style=\"color:rgb(10, 127, 143);\">**Numerical Variables** </span>"
   ]
  },
  {
   "cell_type": "markdown",
   "metadata": {},
   "source": [
    "##### <span style=\"color:rgb(10, 127, 143);\">**Categorical Variables (Single Variable)** </span>"
   ]
  },
  {
   "cell_type": "markdown",
   "metadata": {},
   "source": [
    "#### <span style=\"color:rgb(10, 127, 143);\">**Bivariate Analysis (Two Variables)** </span>\n",
    "\n",
    "Explore relationships between two variables."
   ]
  },
  {
   "cell_type": "markdown",
   "metadata": {},
   "source": [
    "##### <span style=\"color:rgb(10, 127, 143);\">**Numerical vs. Numerical (Correlation & Trends)** </span>"
   ]
  },
  {
   "cell_type": "markdown",
   "metadata": {},
   "source": [
    "##### <span style=\"color:rgb(10, 127, 143);\">**Numerical vs. Categorical (Category Impact on Numbers)** </span>"
   ]
  },
  {
   "cell_type": "markdown",
   "metadata": {},
   "source": [
    "#### <span style=\"color:rgb(10, 127, 143);\">**Multivariate Analysis (Multiple Variables)** </span>\n",
    "\n",
    "Multivariate patterns reveal deeper insights and Examine how multiple variables interact."
   ]
  },
  {
   "cell_type": "markdown",
   "metadata": {},
   "source": [
    "<div style=\"border-top: 2px solid rgb(19, 190, 212); margin-top: 10px; margin-bottom: 10px;\"></div>\n"
   ]
  },
  {
   "cell_type": "markdown",
   "metadata": {},
   "source": []
  }
 ],
 "metadata": {
  "kernelspec": {
   "display_name": "Python 3",
   "language": "python",
   "name": "python3"
  },
  "language_info": {
   "codemirror_mode": {
    "name": "ipython",
    "version": 3
   },
   "file_extension": ".py",
   "mimetype": "text/x-python",
   "name": "python",
   "nbconvert_exporter": "python",
   "pygments_lexer": "ipython3",
   "version": "3.9.20"
  }
 },
 "nbformat": 4,
 "nbformat_minor": 2
}
